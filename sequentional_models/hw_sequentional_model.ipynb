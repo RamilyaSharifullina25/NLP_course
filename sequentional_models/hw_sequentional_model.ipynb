{
  "cells": [
    {
      "cell_type": "markdown",
      "metadata": {
        "id": "HmsFABwClrsS"
      },
      "source": [
        "## Seminar and homework (10 points total)\n",
        "\n",
        "Today we shall compose encoder-decoder neural networks and apply them to the task of machine translation.\n",
        "\n",
        "![img](https://esciencegroup.files.wordpress.com/2016/03/seq2seq.jpg)\n",
        "_(img: esciencegroup.files.wordpress.com)_\n",
        "\n",
        "\n",
        "Encoder-decoder architectures are about converting anything to anything, including\n",
        " * Machine translation and spoken dialogue systems\n",
        " * [Image captioning](http://mscoco.org/dataset/#captions-challenge2015) and [image2latex](https://openai.com/requests-for-research/#im2latex) (convolutional encoder, recurrent decoder)\n",
        " * Generating [images by captions](https://arxiv.org/abs/1511.02793) (recurrent encoder, convolutional decoder)\n",
        " * Grapheme2phoneme - convert words to transcripts"
      ]
    },
    {
      "cell_type": "markdown",
      "metadata": {
        "id": "R4N9AD2dlrsU"
      },
      "source": [
        "## Our task: machine translation\n",
        "\n",
        "We gonna try our encoder-decoder models on russian to english machine translation problem. More specifically, we'll translate hotel and hostel descriptions. This task shows the scale of machine translation while not requiring you to train your model for weeks if you don't use GPU.\n",
        "\n",
        "Before we get to the architecture, there's some preprocessing to be done. ~~Go tokenize~~ Alright, this time we've done preprocessing for you. As usual, the data will be tokenized with WordPunctTokenizer.\n",
        "\n",
        "However, there's one more thing to do. Our data lines contain unique rare words. If we operate on a word level, we will have to deal with large vocabulary size. If instead we use character-level models, it would take lots of iterations to process a sequence. This time we're gonna pick something inbetween.\n",
        "\n",
        "One popular approach is called [Byte Pair Encoding](https://github.com/rsennrich/subword-nmt) aka __BPE__. The algorithm starts with a character-level tokenization and then iteratively merges most frequent pairs for N iterations. This results in frequent words being merged into a single token and rare words split into syllables or even characters.\n",
        "\n"
      ]
    },
    {
      "cell_type": "code",
      "execution_count": null,
      "metadata": {
        "id": "CfvojjHQlrsU",
        "colab": {
          "base_uri": "https://localhost:8080/"
        },
        "outputId": "c2675942-0955-498d-b51c-e84b137c25e0"
      },
      "outputs": [
        {
          "output_type": "stream",
          "name": "stdout",
          "text": [
            "--2024-03-19 15:24:10--  https://www.dropbox.com/s/yy2zqh34dyhv07i/data.txt?dl=1\n",
            "Resolving www.dropbox.com (www.dropbox.com)... 162.125.3.18, 2620:100:6018:18::a27d:312\n",
            "Connecting to www.dropbox.com (www.dropbox.com)|162.125.3.18|:443... connected.\n",
            "HTTP request sent, awaiting response... 302 Found\n",
            "Location: /s/dl/yy2zqh34dyhv07i/data.txt [following]\n",
            "--2024-03-19 15:24:10--  https://www.dropbox.com/s/dl/yy2zqh34dyhv07i/data.txt\n",
            "Reusing existing connection to www.dropbox.com:443.\n",
            "HTTP request sent, awaiting response... 302 Found\n",
            "Location: https://uc67986358f162c7d87a41535090.dl.dropboxusercontent.com/cd/0/get/CPbGlNEapwb_SAhsmwlCGX0f_Ir6noRurkuFpp6rGpsiMbX5H3dBM29R1b-nMBe4J_TKK5ZlVcJG-nE2G7WROPByAuB_FiEozX7sBP-rKTYmv4m8pSPkzgcW_Yh56NerW50/file?dl=1# [following]\n",
            "--2024-03-19 15:24:10--  https://uc67986358f162c7d87a41535090.dl.dropboxusercontent.com/cd/0/get/CPbGlNEapwb_SAhsmwlCGX0f_Ir6noRurkuFpp6rGpsiMbX5H3dBM29R1b-nMBe4J_TKK5ZlVcJG-nE2G7WROPByAuB_FiEozX7sBP-rKTYmv4m8pSPkzgcW_Yh56NerW50/file?dl=1\n",
            "Resolving uc67986358f162c7d87a41535090.dl.dropboxusercontent.com (uc67986358f162c7d87a41535090.dl.dropboxusercontent.com)... 162.125.3.15, 2620:100:6018:15::a27d:30f\n",
            "Connecting to uc67986358f162c7d87a41535090.dl.dropboxusercontent.com (uc67986358f162c7d87a41535090.dl.dropboxusercontent.com)|162.125.3.15|:443... connected.\n",
            "HTTP request sent, awaiting response... 200 OK\n",
            "Length: 12905335 (12M) [application/binary]\n",
            "Saving to: ‘data.txt’\n",
            "\n",
            "data.txt            100%[===================>]  12.31M  --.-KB/s    in 0.1s    \n",
            "\n",
            "2024-03-19 15:24:11 (87.2 MB/s) - ‘data.txt’ saved [12905335/12905335]\n",
            "\n",
            "--2024-03-19 15:24:11--  https://raw.githubusercontent.com/yandexdataschool/nlp_course/2020/week04_seq2seq/vocab.py\n",
            "Resolving raw.githubusercontent.com (raw.githubusercontent.com)... 185.199.108.133, 185.199.109.133, 185.199.110.133, ...\n",
            "Connecting to raw.githubusercontent.com (raw.githubusercontent.com)|185.199.108.133|:443... connected.\n",
            "HTTP request sent, awaiting response... 200 OK\n",
            "Length: 2879 (2.8K) [text/plain]\n",
            "Saving to: ‘vocab.py’\n",
            "\n",
            "vocab.py            100%[===================>]   2.81K  --.-KB/s    in 0s      \n",
            "\n",
            "2024-03-19 15:24:11 (31.8 MB/s) - ‘vocab.py’ saved [2879/2879]\n",
            "\n"
          ]
        }
      ],
      "source": [
        "!pip3 install torch>=1.3.0\n",
        "!pip3 install subword-nmt &> log\n",
        "!wget https://www.dropbox.com/s/yy2zqh34dyhv07i/data.txt?dl=1 -O data.txt\n",
        "!wget https://raw.githubusercontent.com/yandexdataschool/nlp_course/2020/week04_seq2seq/vocab.py -O vocab.py\n",
        "# thanks to tilda and deephack teams for the data, Dmitry Emelyanenko for the code :)"
      ]
    },
    {
      "cell_type": "code",
      "source": [
        "# with open('train.en', 'r') as df:\n",
        "#   for line in df:\n",
        "#     print(line)\n",
        "#     break"
      ],
      "metadata": {
        "id": "gxmvSAYqHuVS"
      },
      "execution_count": null,
      "outputs": []
    },
    {
      "cell_type": "code",
      "source": [
        "# for line in open('data.txt'):\n",
        "#   print(line)\n",
        "#   print(' '.join(tokenizer.tokenize(line.strip().split('\\t')[0].lower())))\n",
        "#   break"
      ],
      "metadata": {
        "id": "hib3RDpcH-K4"
      },
      "execution_count": null,
      "outputs": []
    },
    {
      "cell_type": "code",
      "source": [
        "# for i, line in enumerate(open('bpe_rules.en')):\n",
        "#   if i < 10:\n",
        "#     print(line)\n",
        "#   else:\n",
        "#     break"
      ],
      "metadata": {
        "id": "2rWnff1lKSWS"
      },
      "execution_count": null,
      "outputs": []
    },
    {
      "cell_type": "code",
      "source": [
        "# for line in open('train.en'):\n",
        "#   print(bpe['en'].process_line(line.strip()))\n",
        "#   break"
      ],
      "metadata": {
        "id": "9E9UufA1LAyR"
      },
      "execution_count": null,
      "outputs": []
    },
    {
      "cell_type": "code",
      "execution_count": null,
      "metadata": {
        "id": "g9kP0SdxlrsY",
        "colab": {
          "base_uri": "https://localhost:8080/"
        },
        "outputId": "711c5317-f6a1-418e-a7e4-43f323618e7b"
      },
      "outputs": [
        {
          "output_type": "stream",
          "name": "stderr",
          "text": [
            "100%|██████████| 8000/8000 [00:10<00:00, 778.29it/s]\n",
            "100%|██████████| 8000/8000 [00:10<00:00, 755.31it/s]\n"
          ]
        }
      ],
      "source": [
        "from nltk.tokenize import WordPunctTokenizer\n",
        "from subword_nmt.learn_bpe import learn_bpe\n",
        "from subword_nmt.apply_bpe import BPE\n",
        "\n",
        "tokenizer = WordPunctTokenizer()\n",
        "def tokenize(x):\n",
        "    return ' '.join(tokenizer.tokenize(x.lower()))\n",
        "\n",
        "# split and tokenize the data\n",
        "with open('train.en', 'w') as f_src,  open('train.ru', 'w') as f_dst:\n",
        "    for line in open('data.txt'):\n",
        "        src_line, dst_line = line.strip().split('\\t')\n",
        "        f_src.write(tokenize(src_line) + '\\n')\n",
        "        f_dst.write(tokenize(dst_line) + '\\n')\n",
        "\n",
        "# build and apply bpe vocs\n",
        "bpe = {}\n",
        "for lang in ['en', 'ru']:\n",
        "    learn_bpe(open('./train.' + lang), open('bpe_rules.' + lang, 'w'), num_symbols=8000)\n",
        "    bpe[lang] = BPE(open('./bpe_rules.' + lang))\n",
        "\n",
        "    with open('train.bpe.' + lang, 'w') as f_out:\n",
        "        for line in open('train.' + lang):\n",
        "            f_out.write(bpe[lang].process_line(line.strip()) + '\\n')"
      ]
    },
    {
      "cell_type": "markdown",
      "metadata": {
        "id": "0UPW3sV8lrsb"
      },
      "source": [
        "### Building vocabularies\n",
        "\n",
        "We now need to build vocabularies that map strings to token ids and vice versa. We're gonna need these fellas when we feed training data into model or convert output matrices into words."
      ]
    },
    {
      "cell_type": "code",
      "execution_count": null,
      "metadata": {
        "id": "CmTy_m_olrsb"
      },
      "outputs": [],
      "source": [
        "import numpy as np\n",
        "import matplotlib.pyplot as plt\n",
        "%matplotlib inline"
      ]
    },
    {
      "cell_type": "code",
      "execution_count": null,
      "metadata": {
        "id": "8PskgBSxlrsd",
        "colab": {
          "base_uri": "https://localhost:8080/"
        },
        "outputId": "107b06f0-ce56-4772-af52-4b9e6b6b0d6e"
      },
      "outputs": [
        {
          "output_type": "stream",
          "name": "stdout",
          "text": [
            "inp: на территории обустроена бесплатная частная парковка .\n",
            "out: free private parking is available on site .\n",
            "\n",
            "inp: кроме того , в 5 минутах ходьбы работают многочисленные бары и рестораны .\n",
            "out: guests can find many bars and restaurants within a 5 - minute walk .\n",
            "\n",
            "inp: отель san mi@@ gu@@ el расположен в центре мор@@ ели@@ и , в 750 метрах от главной площади города и кафедрального собора .\n",
            "out: hotel san miguel is located in central more@@ lia , 750 metres from the city ’ s main square and cathedral .\n",
            "\n"
          ]
        }
      ],
      "source": [
        "data_inp = np.array(open('./train.bpe.ru').read().split('\\n'))\n",
        "data_out = np.array(open('./train.bpe.en').read().split('\\n'))\n",
        "\n",
        "from sklearn.model_selection import train_test_split\n",
        "train_inp, dev_inp, train_out, dev_out = train_test_split(data_inp, data_out, test_size=3000,\n",
        "                                                          random_state=42)\n",
        "for i in range(3):\n",
        "    print('inp:', train_inp[i])\n",
        "    print('out:', train_out[i], end='\\n\\n')"
      ]
    },
    {
      "cell_type": "code",
      "execution_count": null,
      "metadata": {
        "id": "vipg4O61lrsg"
      },
      "outputs": [],
      "source": [
        "from vocab import Vocab\n",
        "inp_voc = Vocab.from_lines(train_inp)\n",
        "out_voc = Vocab.from_lines(train_out)"
      ]
    },
    {
      "cell_type": "code",
      "execution_count": null,
      "metadata": {
        "id": "cwOoHfuhlrsi",
        "colab": {
          "base_uri": "https://localhost:8080/"
        },
        "outputId": "b3fd9e13-cb87-4b43-a938-f2504bc56574"
      },
      "outputs": [
        {
          "output_type": "stream",
          "name": "stdout",
          "text": [
            "lines\n",
            "['гостевой дом r .', 'до афин — 20 км .', 'работает боулинг .', 'оборудован балкон .', 'подключен wi - fi .']\n",
            "\n",
            "words to ids (0 = bos, 1 = eos):\n",
            "tensor([[   0, 2688, 2943, 1108,   29,    1,    1,    1],\n",
            "        [   0, 2922, 1834, 8035,   59, 3800,   29,    1],\n",
            "        [   0, 6030, 2083,   29,    1,    1,    1,    1],\n",
            "        [   0, 4927, 1870,   29,    1,    1,    1,    1],\n",
            "        [   0, 5549, 1453,   27,  592,   29,    1,    1]])\n",
            "\n",
            "back to words\n",
            "['гостевой дом r .', 'до афин — 20 км .', 'работает боулинг .', 'оборудован балкон .', 'подключен wi - fi .']\n"
          ]
        }
      ],
      "source": [
        "# Here's how you cast lines into ids and backwards.\n",
        "batch_lines = sorted(train_inp, key=len)[5:10]\n",
        "batch_ids = inp_voc.to_matrix(batch_lines)\n",
        "batch_lines_restored = inp_voc.to_lines(batch_ids)\n",
        "\n",
        "print(\"lines\")\n",
        "print(batch_lines)\n",
        "print(\"\\nwords to ids (0 = bos, 1 = eos):\")\n",
        "print(batch_ids)\n",
        "print(\"\\nback to words\")\n",
        "print(batch_lines_restored)"
      ]
    },
    {
      "cell_type": "markdown",
      "metadata": {
        "id": "gSYu-MkElrsk"
      },
      "source": [
        "Draw source and translation length distributions to estimate the scope of the task."
      ]
    },
    {
      "cell_type": "code",
      "execution_count": null,
      "metadata": {
        "colab": {
          "base_uri": "https://localhost:8080/",
          "height": 391
        },
        "id": "TLLl9cSNlrsl",
        "outputId": "b3f9fb2b-4e90-433a-c62c-1d780fa7cbd2"
      },
      "outputs": [
        {
          "output_type": "display_data",
          "data": {
            "text/plain": [
              "<Figure size 800x400 with 2 Axes>"
            ],
            "image/png": "[encoded data removed]"
          },
          "metadata": {}
        }
      ],
      "source": [
        "plt.figure(figsize=[8, 4])\n",
        "plt.subplot(1, 2, 1)\n",
        "plt.title(\"source length\")\n",
        "plt.hist(list(map(len, map(str.split, train_inp))), bins=20);\n",
        "\n",
        "plt.subplot(1, 2, 2)\n",
        "plt.title(\"translation length\")\n",
        "plt.hist(list(map(len, map(str.split, train_out))), bins=20);"
      ]
    },
    {
      "cell_type": "markdown",
      "metadata": {
        "id": "BHWgx34flrsn"
      },
      "source": [
        "### Encoder-decoder model\n",
        "\n",
        "The code below contains a template for a simple encoder-decoder model: single GRU encoder/decoder, no attention or anything. This model is implemented for you as a reference and a baseline for your homework assignment."
      ]
    },
    {
      "cell_type": "code",
      "execution_count": null,
      "metadata": {
        "id": "pd_rDRm9lrso"
      },
      "outputs": [],
      "source": [
        "import torch\n",
        "import torch.nn as nn\n",
        "import torch.nn.functional as F\n",
        "device = 'cuda' if torch.cuda.is_available() else 'cpu'"
      ]
    },
    {
      "cell_type": "code",
      "execution_count": null,
      "metadata": {
        "id": "wgfN5-F7lrst"
      },
      "outputs": [],
      "source": [
        "class BasicModel(nn.Module):\n",
        "    def __init__(self, inp_voc, out_voc, emb_size=64, hid_size=128):\n",
        "        \"\"\"\n",
        "        A simple encoder-decoder seq2seq model\n",
        "        \"\"\"\n",
        "        super().__init__() # initialize base class to track sub-layers, parameters, etc.\n",
        "\n",
        "        self.inp_voc, self.out_voc = inp_voc, out_voc\n",
        "        self.hid_size = hid_size\n",
        "\n",
        "        self.emb_inp = nn.Embedding(len(inp_voc), emb_size)\n",
        "        self.emb_out = nn.Embedding(len(out_voc), emb_size)\n",
        "        self.enc0 = nn.GRU(emb_size, hid_size, batch_first=True)\n",
        "\n",
        "        self.dec_start = nn.Linear(hid_size, hid_size)\n",
        "        self.dec0 = nn.GRUCell(emb_size, hid_size)\n",
        "        self.logits = nn.Linear(hid_size, len(out_voc))\n",
        "\n",
        "    def forward(self, inp, out):\n",
        "        \"\"\" Apply model in training mode \"\"\"\n",
        "        initial_state = self.encode(inp)\n",
        "        return self.decode(initial_state, out)\n",
        "\n",
        "\n",
        "    def encode(self, inp, **flags):\n",
        "        \"\"\"\n",
        "        Takes symbolic input sequence, computes initial state\n",
        "        :param inp: matrix of input tokens [batch, time]\n",
        "        :returns: initial decoder state tensors, one or many\n",
        "        \"\"\"\n",
        "        inp_emb = self.emb_inp(inp)\n",
        "        batch_size = inp.shape[0]\n",
        "\n",
        "        enc_seq, [last_state_but_not_really] = self.enc0(inp_emb)\n",
        "        # enc_seq: [batch, time, hid_size], last_state: [batch, hid_size]\n",
        "\n",
        "        # note: last_state is not _actually_ last because of padding, let's find the real last_state\n",
        "        lengths = (inp != self.inp_voc.eos_ix).to(torch.int64).sum(dim=1).clamp_max(inp.shape[1] - 1)\n",
        "        last_state = enc_seq[torch.arange(len(enc_seq)), lengths]\n",
        "        # ^-- shape: [batch_size, hid_size]\n",
        "\n",
        "        dec_start = self.dec_start(last_state)\n",
        "        return [dec_start]\n",
        "\n",
        "    def decode_step(self, prev_state, prev_tokens, **flags):\n",
        "        \"\"\"\n",
        "        Takes previous decoder state and tokens, returns new state and logits for next tokens\n",
        "        :param prev_state: a list of previous decoder state tensors, same as returned by encode(...)\n",
        "        :param prev_tokens: previous output tokens, an int vector of [batch_size]\n",
        "        :return: a list of next decoder state tensors, a tensor of logits [batch, len(out_voc)]\n",
        "        \"\"\"\n",
        "        dec_start = prev_state[0]\n",
        "\n",
        "        # <YOUR CODE HERE>\n",
        "        prev_tokens_embs = self.emb_out(prev_tokens)\n",
        "\n",
        "        # print('prev_tokens.shape', prev_tokens.shape)\n",
        "        # print('prev_tokens_embs.shape', prev_tokens_embs.shape)\n",
        "\n",
        "        new_gru_activations = self.dec0(prev_tokens_embs, dec_start)\n",
        "        new_dec_state = [new_gru_activations]\n",
        "        output_logits = self.logits(new_gru_activations)\n",
        "\n",
        "        return new_dec_state, output_logits\n",
        "\n",
        "\n",
        "    def decode(self, initial_state, out_tokens, **flags):\n",
        "        \"\"\" Iterate over reference tokens (out_tokens) with decode_step \"\"\"\n",
        "        batch_size = out_tokens.shape[0]\n",
        "        state = initial_state\n",
        "\n",
        "        # initial logits: always predict BOS\n",
        "        onehot_bos = F.one_hot(torch.full([batch_size], self.out_voc.bos_ix, dtype=torch.int64),\n",
        "                               num_classes=len(self.out_voc)).to(device=out_tokens.device)\n",
        "        first_logits = torch.log(onehot_bos.to(torch.float32) + 1e-9)\n",
        "\n",
        "        logits_sequence = [first_logits]\n",
        "        for i in range(out_tokens.shape[1] - 1):\n",
        "            state, logits = self.decode_step(state, out_tokens[:, i])\n",
        "            logits_sequence.append(logits)\n",
        "        return torch.stack(logits_sequence, dim=1)\n",
        "\n",
        "    def decode_inference(self, initial_state, max_len=100, **flags):\n",
        "        \"\"\" Generate translations from model (greedy version) \"\"\"\n",
        "        batch_size, device = len(initial_state[0]), initial_state[0].device\n",
        "        state = initial_state\n",
        "        outputs = [torch.full([batch_size], self.out_voc.bos_ix, dtype=torch.int64,\n",
        "                              device=device)]\n",
        "        all_states = [initial_state]\n",
        "\n",
        "        for i in range(max_len):\n",
        "            state, logits = self.decode_step(state, outputs[-1])\n",
        "            outputs.append(logits.argmax(dim=-1))\n",
        "            all_states.append(state)\n",
        "\n",
        "        return torch.stack(outputs, dim=1), all_states\n",
        "\n",
        "    def translate_lines(self, inp_lines, **kwargs):\n",
        "        inp = self.inp_voc.to_matrix(inp_lines).to(device)\n",
        "        initial_state = self.encode(inp)\n",
        "        out_ids, states = self.decode_inference(initial_state, **kwargs)\n",
        "        return self.out_voc.to_lines(out_ids.cpu().numpy()), states\n"
      ]
    },
    {
      "cell_type": "code",
      "execution_count": null,
      "metadata": {
        "id": "8XFlwvtZFWAC"
      },
      "outputs": [],
      "source": [
        "# debugging area\n",
        "model = BasicModel(inp_voc, out_voc).to(device)\n",
        "\n",
        "dummy_inp_tokens = inp_voc.to_matrix(sorted(train_inp, key=len)[5:10]).to(device)\n",
        "dummy_out_tokens = out_voc.to_matrix(sorted(train_out, key=len)[5:10]).to(device)\n",
        "\n",
        "h0 = model.encode(dummy_inp_tokens)\n",
        "h1, logits1 = model.decode_step(prev_state=h0, prev_tokens=torch.arange(len(dummy_inp_tokens), device=device))\n",
        "\n",
        "assert isinstance(h1, list) and len(h1) == len(h0)\n",
        "assert h1[0].shape == h0[0].shape and not torch.allclose(h1[0], h0[0])\n",
        "assert logits1.shape == (len(dummy_inp_tokens), len(out_voc))\n",
        "\n",
        "logits_seq = model.decode(h0, dummy_out_tokens)\n",
        "assert logits_seq.shape == (dummy_out_tokens.shape[0], dummy_out_tokens.shape[1], len(out_voc))\n",
        "\n",
        "# full forward\n",
        "logits_seq2 = model(dummy_inp_tokens, dummy_out_tokens)\n",
        "assert logits_seq2.shape == logits_seq.shape"
      ]
    },
    {
      "cell_type": "code",
      "execution_count": null,
      "metadata": {
        "id": "KDXPJpPRFWAC",
        "colab": {
          "base_uri": "https://localhost:8080/"
        },
        "outputId": "27a4b362-47f6-452f-e17c-3b55a7fb2952"
      },
      "outputs": [
        {
          "output_type": "stream",
          "name": "stdout",
          "text": [
            "Translations without training:\n",
            "ic@@ resort khi@@ yuan@@ qing front reading ess@@ unobstructed terre luxury disney a8 maine order beau@@ aven filled spezia burgas ju opportunities sest@@ tro@@ silv@@\n",
            "ic@@ resort homemade veneto suk@@ fu@@ sardinia 70 cook@@ +@@ nova г@@ brand@@ cham@@ bedroom vending ̊ ocean@@ belved@@ hanover rented for woods 104 ć\n",
            "dri@@ szcz@@ sub@@ vos@@ 2@@ wheel@@ sibil@@ outdoor victory themselves alm@@ wh@@ ory tavi@@ yaroslav@@ salt dome asi@@ starbucks jing@@ maria sh ola lima attention\n"
          ]
        }
      ],
      "source": [
        "dummy_translations, dummy_states = model.translate_lines(train_inp[:3], max_len=25)\n",
        "print(\"Translations without training:\")\n",
        "print('\\n'.join([line for line in dummy_translations]))"
      ]
    },
    {
      "cell_type": "markdown",
      "metadata": {
        "id": "_wuv1-aVlrs0"
      },
      "source": [
        "### Training loss (2 points)\n",
        "\n",
        "Our training objective is almost the same as it was for neural language models:\n",
        "$$ L = {\\frac1{|D|}} \\sum_{X, Y \\in D} \\sum_{y_t \\in Y} - \\log p(y_t \\mid y_1, \\dots, y_{t-1}, X, \\theta) $$\n",
        "\n",
        "where $|D|$ is the __total length of all sequences__, including BOS and first EOS, but excluding PAD."
      ]
    },
    {
      "cell_type": "code",
      "execution_count": null,
      "metadata": {
        "id": "c8XPV8sWlrs5",
        "scrolled": true
      },
      "outputs": [],
      "source": [
        "def compute_loss(model, inp, out, **flags):\n",
        "    \"\"\"\n",
        "    Compute loss (float32 scalar) as in the formula above\n",
        "    :param inp: input tokens matrix, int32[batch, time]\n",
        "    :param out: reference tokens matrix, int32[batch, time]\n",
        "\n",
        "    In order to pass the tests, your function should\n",
        "    * include loss at first EOS but not the subsequent ones\n",
        "    * divide sum of losses by a sum of input lengths (use voc.compute_mask)\n",
        "    \"\"\"\n",
        "    mask = model.out_voc.compute_mask(out) # [batch_size, out_len]\n",
        "    targets_1hot = F.one_hot(out, len(model.out_voc)).to(torch.float32)\n",
        "\n",
        "    # outputs of the model, [batch_size, out_len, num_tokens]\n",
        "    logits_seq = model(inp, out)\n",
        "\n",
        "    # log-probabilities of all tokens at all steps, [batch_size, out_len, num_tokens]\n",
        "    logprobs_seq = torch.log_softmax(logits_seq, dim=-1)\n",
        "\n",
        "    # log-probabilities of correct outputs, [batch_size, out_len]\n",
        "    logp_out = (logprobs_seq * targets_1hot).sum(dim=-1)\n",
        "    # ^-- this will select the probability of the actual next token.\n",
        "    # Note: you can compute loss more efficiently using using F.cross_entropy\n",
        "\n",
        "    # average cross-entropy over tokens where mask == True\n",
        "    return  -torch.masked_select(logp_out, mask).sum() / mask.sum() # average loss, scalar\n",
        "    # return -logp_out.mean()"
      ]
    },
    {
      "cell_type": "code",
      "source": [
        "dummy_loss = compute_loss(model, dummy_inp_tokens, dummy_out_tokens)\n",
        "print(\"Loss:\", dummy_loss)\n",
        "assert np.allclose(dummy_loss.item(), 7.5, rtol=0.1, atol=0.1), \"We're sorry for your loss\"\n",
        "\n",
        "# test autograd\n",
        "dummy_loss.backward()\n",
        "for name, param in model.named_parameters():\n",
        "    assert param.grad is not None and abs(param.grad.max()) != 0, f\"Param {name} received no gradients\""
      ],
      "metadata": {
        "colab": {
          "base_uri": "https://localhost:8080/"
        },
        "id": "iDehrT0HUyjA",
        "outputId": "17709948-fcbf-461d-8849-eae03bdffa00"
      },
      "execution_count": null,
      "outputs": [
        {
          "output_type": "stream",
          "name": "stdout",
          "text": [
            "Loss: tensor(7.5294, device='cuda:0', grad_fn=<DivBackward0>)\n"
          ]
        }
      ]
    },
    {
      "cell_type": "markdown",
      "metadata": {
        "id": "HpbaBpW7lrs-"
      },
      "source": [
        "### Evaluation: BLEU\n",
        "\n",
        "Machine translation is commonly evaluated with [BLEU](https://en.wikipedia.org/wiki/BLEU) score. This metric simply computes which fraction of predicted n-grams is actually present in the reference translation. It does so for n=1,2,3 and 4 and computes the geometric average with penalty if translation is shorter than reference.\n",
        "\n",
        "While BLEU [has many drawbacks](http://www.cs.jhu.edu/~ccb/publications/re-evaluating-the-role-of-bleu-in-mt-research.pdf), it still remains the most commonly used metric and one of the simplest to compute."
      ]
    },
    {
      "cell_type": "code",
      "execution_count": null,
      "metadata": {
        "id": "Gb1-PhKIlrs-"
      },
      "outputs": [],
      "source": [
        "from nltk.translate.bleu_score import corpus_bleu\n",
        "def compute_bleu(model, inp_lines, out_lines, bpe_sep='@@ ', **flags):\n",
        "    \"\"\"\n",
        "    Estimates corpora-level BLEU score of model's translations given inp and reference out\n",
        "    Note: if you're serious about reporting your results, use https://pypi.org/project/sacrebleu\n",
        "    \"\"\"\n",
        "    with torch.no_grad():\n",
        "        translations, _ = model.translate_lines(inp_lines, **flags)\n",
        "        translations = [line.replace(bpe_sep, '') for line in translations]\n",
        "        actual = [line.replace(bpe_sep, '') for line in out_lines]\n",
        "        return corpus_bleu(\n",
        "            [[ref.split()] for ref in actual],\n",
        "            [trans.split() for trans in translations],\n",
        "            smoothing_function=lambda precisions, **kw: [p + 1.0 / p.denominator for p in precisions]\n",
        "            ) * 100"
      ]
    },
    {
      "cell_type": "code",
      "execution_count": null,
      "metadata": {
        "colab": {
          "base_uri": "https://localhost:8080/"
        },
        "id": "gZvfid1RlrtA",
        "outputId": "e648b805-0066-4186-d307-946e6cf51f57"
      },
      "outputs": [
        {
          "output_type": "execute_result",
          "data": {
            "text/plain": [
              "0.0033518890544958976"
            ]
          },
          "metadata": {},
          "execution_count": 13
        }
      ],
      "source": [
        "compute_bleu(model, dev_inp, dev_out)"
      ]
    },
    {
      "cell_type": "markdown",
      "metadata": {
        "id": "nQDhGwg4lrtC"
      },
      "source": [
        "### Training loop\n",
        "\n",
        "Training encoder-decoder models isn't that different from any other models: sample batches, compute loss, backprop and update"
      ]
    },
    {
      "cell_type": "code",
      "execution_count": null,
      "metadata": {
        "id": "yfwIaixHlrtI",
        "scrolled": false
      },
      "outputs": [],
      "source": [
        "from IPython.display import clear_output\n",
        "from tqdm import tqdm, trange\n",
        "metrics = {'train_loss': [], 'dev_bleu': [] }\n",
        "\n",
        "model = BasicModel(inp_voc, out_voc).to(device)\n",
        "opt = torch.optim.Adam(model.parameters(), lr=1e-3)\n",
        "batch_size = 32"
      ]
    },
    {
      "cell_type": "code",
      "execution_count": null,
      "metadata": {
        "colab": {
          "base_uri": "https://localhost:8080/",
          "height": 427
        },
        "id": "LlDT6eDUlrtL",
        "scrolled": true,
        "outputId": "cd152134-3f02-4e90-f053-581dbc17c7c4"
      },
      "outputs": [
        {
          "output_type": "display_data",
          "data": {
            "text/plain": [
              "<Figure size 1200x400 with 2 Axes>"
            ],
            "image/png": "[encoded data removed]"
          },
          "metadata": {}
        },
        {
          "output_type": "stream",
          "name": "stdout",
          "text": [
            "Mean loss=1.764\n"
          ]
        },
        {
          "output_type": "stream",
          "name": "stderr",
          "text": [
            "\r100%|██████████| 25000/25000 [22:36<00:00, 18.42it/s]\n"
          ]
        }
      ],
      "source": [
        "for _ in trange(25000):\n",
        "    step = len(metrics['train_loss']) + 1\n",
        "    batch_ix = np.random.randint(len(train_inp), size=batch_size)\n",
        "    batch_inp = inp_voc.to_matrix(train_inp[batch_ix]).to(device)\n",
        "    batch_out = out_voc.to_matrix(train_out[batch_ix]).to(device)\n",
        "\n",
        "    # <YOUR CODE: training step using batch_inp and batch_out>\n",
        "    loss_t = compute_loss(model, batch_inp, batch_out)\n",
        "    opt.zero_grad()\n",
        "    loss_t.backward()\n",
        "    opt.step()\n",
        "\n",
        "    metrics['train_loss'].append((step, loss_t.item()))\n",
        "\n",
        "    if step % 100 == 0:\n",
        "        metrics['dev_bleu'].append((step, compute_bleu(model, dev_inp, dev_out)))\n",
        "\n",
        "        clear_output(True)\n",
        "        plt.figure(figsize=(12,4))\n",
        "        for i, (name, history) in enumerate(sorted(metrics.items())):\n",
        "            plt.subplot(1, len(metrics), i + 1)\n",
        "            plt.title(name)\n",
        "            plt.plot(*zip(*history))\n",
        "            plt.grid()\n",
        "        plt.show()\n",
        "        print(\"Mean loss=%.3f\" % np.mean(metrics['train_loss'][-10:], axis=0)[1], flush=True)\n",
        "\n",
        "# Note: it's okay if bleu oscillates up and down as long as it gets better on average over long term (e.g. 5k batches)"
      ]
    },
    {
      "cell_type": "code",
      "execution_count": null,
      "metadata": {
        "id": "2ahuhKVhlrtP"
      },
      "outputs": [],
      "source": [
        "assert np.mean(metrics['dev_bleu'][-10:], axis=0)[1] > 15, \"We kind of need a higher bleu BLEU from you. Kind of right now.\""
      ]
    },
    {
      "cell_type": "code",
      "execution_count": null,
      "metadata": {
        "id": "KyaHOpealrtS",
        "colab": {
          "base_uri": "https://localhost:8080/"
        },
        "outputId": "4cb0f118-0daa-4125-c02e-675acf6d8973"
      },
      "outputs": [
        {
          "output_type": "stream",
          "name": "stdout",
          "text": [
            "в распоряжении гостей общая кухня и общая гостиная .\n",
            "a shared kitchen is shared , shared kitchen and shared kitchen .\n",
            "\n",
            "кроме того , предоставляется прокат велосипедов , услуги трансфера и бесплатная парковка .\n",
            "the hotel also offers free parking and bicycle rental services .\n",
            "\n",
            "расстояние до города ки@@ сси@@ м@@ ми составляет 26 км .\n",
            "krabi is 40 km from the property .\n",
            "\n",
            "апартаменты в пент@@ хаусе с общим открытым бассейном , садом , кондиционером и террасой для загара расположены в 5 минутах ходьбы от пляжа на курорте ка@@ бо - рой .\n",
            "situated in a 10 - hectare park , 10 minutes from the beach , villa gar@@ ri@@ u offers a garden , a terrace and a terrace .\n",
            "\n",
            "апартаменты mo@@ s@@ co@@ w point - loft red square находятся в москве , в 200 метрах от большого театра .\n",
            "the apartment is 200 metres from the pedestrian street , while the rossio theatre is 200 metres away .\n",
            "\n",
            "в вашем распоряжении собственная ванная комната с душем и полотенцами .\n",
            "the private bathrooms include shower facilities .\n",
            "\n"
          ]
        }
      ],
      "source": [
        "for inp_line, trans_line in zip(dev_inp[::500], model.translate_lines(dev_inp[::500])[0]):\n",
        "    print(inp_line)\n",
        "    print(trans_line)\n",
        "    print()"
      ]
    },
    {
      "cell_type": "markdown",
      "metadata": {
        "id": "edk_oVg0lrtW"
      },
      "source": [
        "### Your Attention Required\n",
        "\n",
        "In this section we want you to improve over the basic model by implementing a simple attention mechanism.\n",
        "\n",
        "This is gonna be a two-parter: building the __attention layer__ and using it for an __attentive seq2seq model__."
      ]
    },
    {
      "cell_type": "markdown",
      "metadata": {
        "id": "Qz9aROAIlrtX"
      },
      "source": [
        "### Attention layer (3 points)\n",
        "\n",
        "Here you will have to implement a layer that computes a simple additive attention:\n",
        "\n",
        "Given encoder sequence $ h^e_0, h^e_1, h^e_2, ..., h^e_T$ and a single decoder state $h^d$,\n",
        "\n",
        "* Compute logits with a 2-layer neural network\n",
        "$$a_t = linear_{out}(tanh(linear_{e}(h^e_t) + linear_{d}(h_d)))$$\n",
        "* Get probabilities from logits,\n",
        "$$ p_t = {{e ^ {a_t}} \\over { \\sum_\\tau e^{a_\\tau} }} $$\n",
        "\n",
        "* Add up encoder states with probabilities to get __attention response__\n",
        "$$ attn = \\sum_t p_t \\cdot h^e_t $$\n",
        "\n",
        "You can learn more about attention layers in the lecture slides or [from this post](https://distill.pub/2016/augmented-rnns/)."
      ]
    },
    {
      "cell_type": "code",
      "source": [
        "# emb_size = 64\n",
        "# hid_size = 128\n",
        "\n",
        "# inp = inp_voc.to_matrix(sorted(train_inp, key=len)[5:10]).to(device)\n",
        "# emb_inp = nn.Embedding(len(inp_voc), emb_size).to(device)\n",
        "\n",
        "# out_tokens = out_voc.to_matrix(sorted(train_out, key=len)[5:10]).to(device)\n",
        "# print('out_tokens.shape ', out_tokens.shape)\n",
        "# emb_out = nn.Embedding(len(out_voc), emb_size).to(device)\n",
        "\n",
        "# inp_emb = emb_inp(inp)\n",
        "# print('inp_emb.shape ', inp_emb.shape)\n",
        "# batch_size = inp.shape[0]\n",
        "\n",
        "# enc0 = nn.GRU(emb_size, hid_size, batch_first=True).to(device)\n",
        "# enc_seq, [last_state_but_not_really] = enc0(inp_emb)\n",
        "# print('enc_seq.shape ', enc_seq.shape)\n",
        "\n",
        "# lengths = (inp != inp_voc.eos_ix).to(torch.int64).sum(dim=1).clamp_max(inp.shape[1] - 1)\n",
        "# last_state = enc_seq[torch.arange(len(enc_seq)), lengths]\n",
        "# print('last_state.shape ', last_state.shape)\n",
        "\n",
        "# dec_start_lin = nn.Linear(hid_size, hid_size).to(device)\n",
        "# dec_start = dec_start_lin(last_state)\n",
        "# print('dec_start.shape ', dec_start.shape)\n",
        "\n",
        "# # initial logits: always predict BOS\n",
        "# onehot_bos = F.one_hot(torch.full([batch_size], out_voc.bos_ix, dtype=torch.int64),\n",
        "#                         num_classes=len(out_voc)).to(device=out_tokens.device)\n",
        "# first_logits = torch.log(onehot_bos.to(torch.float32) + 1e-9)\n",
        "# logits = []\n",
        "# logits.append(first_logits)\n",
        "\n",
        "# for i in range(out_tokens.shape[1] - 1):\n",
        "\n",
        "#   logits = nn.Linear(hid_size, len(out_voc)).to(device)\n",
        "#   emb_out = nn.Embedding(len(out_voc), emb_size).to(device)\n",
        "#   dec0 = nn.GRUCell(emb_size, hid_size).to(device)\n",
        "\n",
        "#   prev_tokens_embs = emb_out(out_tokens[:, i])\n",
        "#   print('prev_tokens_embs.shape ', prev_tokens_embs.shape)\n",
        "#   new_gru_activations = dec0(prev_tokens_embs, dec_start)\n",
        "#   print('new_gru_activations.shape ', new_gru_activations.shape)\n",
        "#   new_dec_state = [new_gru_activations]\n",
        "#   output_logits = logits(new_gru_activations)\n",
        "#   print('output_logits.shape ', output_logits.shape)\n",
        "\n",
        "#   # attention\n",
        "#   lin_enc = nn.Linear(hid_size, hid_size).to(device)\n",
        "#   lin_dec = nn.Linear(hid_size, hid_size).to(device)\n",
        "#   lin_out = nn.Linear(hid_size, 1).to(device)\n",
        "\n",
        "#   logit_enc = lin_enc(enc_seq)\n",
        "#   print('logit_enc.shape ', logit_enc.shape)\n",
        "\n",
        "#   logit_dec = lin_dec(last_state).unsqueeze(1)\n",
        "#   print('logit_dec.shape ', logit_dec.shape)\n",
        "\n",
        "#   scores = lin_out(torch.tanh(logit_enc + logit_dec))\n",
        "#   print('scores.shape ', scores.shape)\n",
        "\n",
        "#   inp_mask = out_voc.compute_mask(inp)\n",
        "#   print('inp_mask.shape ', inp_mask.shape)\n",
        "\n",
        "#   scores[torch.where(inp_mask == False)] = -1e9\n",
        "\n",
        "#   probs = F.softmax(scores, dim=1)\n",
        "#   print('probs.shape ', probs.shape)\n",
        "\n",
        "#   # attn = torch.bmm(probs, enc_seq)\n",
        "#   attn = (probs * enc_seq).sum(dim=1)\n",
        "#   print('attn.shape ', attn.shape)\n",
        "\n",
        "#   probs = probs.squeeze()\n",
        "#   print('probs.shape ', probs.shape)\n",
        "\n",
        "#   context = torch.cat([new_gru_activations, attn], dim=-1)\n",
        "#   print('context.shape', context.shape)\n",
        "\n",
        "#   logits = nn.Linear(hid_size * 2, len(out_voc)).to(device)\n",
        "#   output_logits = logits(context)\n",
        "\n",
        "#   print('output_logits.shape', output_logits.shape)\n",
        "\n",
        "#   break\n"
      ],
      "metadata": {
        "id": "-QLS0gzB2fr_"
      },
      "execution_count": null,
      "outputs": []
    },
    {
      "cell_type": "code",
      "execution_count": null,
      "metadata": {
        "id": "ORCDXlkMFWAD"
      },
      "outputs": [],
      "source": [
        "class AttentionLayer(nn.Module):\n",
        "    def __init__(self, name, enc_size, dec_size, hid_size, activ=torch.tanh):\n",
        "        \"\"\" A layer that computes additive attention response and weights \"\"\"\n",
        "        super().__init__()\n",
        "\n",
        "        self.inp_voc, self.out_voc = inp_voc, out_voc\n",
        "\n",
        "        self.name = name\n",
        "        self.enc_size = enc_size # num units in encoder state\n",
        "        self.dec_size = dec_size # num units in decoder state\n",
        "        self.hid_size = hid_size # attention layer hidden units\n",
        "        self.activ = activ       # attention layer hidden nonlinearity\n",
        "\n",
        "        self.lin_enc = nn.Linear(self.hid_size, self.hid_size)\n",
        "        self.lin_dec = nn.Linear(self.hid_size, self.hid_size)\n",
        "        self.lin_out = nn.Linear(self.hid_size, 1)\n",
        "\n",
        "\n",
        "    def forward(self, enc, dec, inp_mask):\n",
        "        \"\"\"\n",
        "        Computes attention response and weights\n",
        "        :param enc: encoder activation sequence, float32[batch_size, ninp, enc_size]\n",
        "        :param dec: single decoder state used as \"query\", float32[batch_size, dec_size]\n",
        "        :param inp_mask: mask on enc activatons (0 after first eos), float32 [batch_size, ninp]\n",
        "        :returns: attn[batch_size, enc_size], probs[batch_size, ninp]\n",
        "            - attn - attention response vector (weighted sum of enc)\n",
        "            - probs - attention weights after softmax\n",
        "        \"\"\"\n",
        "\n",
        "        # Compute logits\n",
        "        logit_enc = self.lin_enc(enc)\n",
        "        logit_dec = self.lin_dec(dec).unsqueeze(1)\n",
        "        scores = self.lin_out(self.activ(logit_enc + logit_dec))\n",
        "\n",
        "        # Apply mask - if mask is 0, logits should be -inf or -1e9\n",
        "        # You may need torch.where\n",
        "        scores[torch.where(inp_mask == False)] = -1e9\n",
        "\n",
        "        # Compute attention probabilities (softmax)\n",
        "        probs = F.softmax(scores, dim=1)\n",
        "\n",
        "        # Compute attention response using enc and probs\n",
        "        attn = (probs * enc).sum(dim=1)\n",
        "        probs = probs.squeeze()\n",
        "\n",
        "        return attn, probs"
      ]
    },
    {
      "cell_type": "markdown",
      "metadata": {
        "id": "IalfpdAelrtb"
      },
      "source": [
        "### Seq2seq model with attention (3 points)\n",
        "\n",
        "You can now use the attention layer to build a network. The simplest way to implement attention is to use it in decoder phase:\n",
        "![img](https://i.imgur.com/6fKHlHb.png)\n",
        "_image from distill.pub [article](https://distill.pub/2016/augmented-rnns/)_\n",
        "\n",
        "On every step, use __previous__ decoder state to obtain attention response. Then feed concat this response to the inputs of next attention layer.\n",
        "\n",
        "The key implementation detail here is __model state__. Put simply, you can add any tensor into the list of `encode` outputs. You will then have access to them at each `decode` step. This may include:\n",
        "* Last RNN hidden states (as in basic model)\n",
        "* The whole sequence of encoder outputs (to attend to) and mask\n",
        "* Attention probabilities (to visualize)\n",
        "\n",
        "_There are, of course, alternative ways to wire attention into your network and different kinds of attention. Take a look at [this](https://arxiv.org/abs/1609.08144), [this](https://arxiv.org/abs/1706.03762) and [this](https://arxiv.org/abs/1808.03867) for ideas. And for image captioning/im2latex there's [visual attention](https://arxiv.org/abs/1502.03044)_"
      ]
    },
    {
      "cell_type": "code",
      "execution_count": null,
      "metadata": {
        "id": "NCKPB5JmcE6j"
      },
      "outputs": [],
      "source": [
        "class AttentiveModel(BasicModel):\n",
        "    def __init__(self, name, inp_voc, out_voc,\n",
        "                 emb_size=64, hid_size=128, attn_size=128):\n",
        "        \"\"\" Translation model that uses attention. See instructions above. \"\"\"\n",
        "        nn.Module.__init__(self)  # initialize base class to track sub-layers, trainable variables, etc.\n",
        "\n",
        "        self.inp_voc, self.out_voc = inp_voc, out_voc\n",
        "        self.emb_size = emb_size\n",
        "        self.hid_size = hid_size\n",
        "        self.attent = AttentionLayer(name,\n",
        "                                   enc_size=64,\n",
        "                                   dec_size=64,\n",
        "                                   hid_size=self.hid_size)\n",
        "\n",
        "        self.emb_inp = nn.Embedding(len(inp_voc), emb_size)\n",
        "        self.emb_out = nn.Embedding(len(out_voc), emb_size)\n",
        "        self.enc0 = nn.GRU(emb_size, hid_size, batch_first=True)\n",
        "\n",
        "        self.dec_start = nn.Linear(hid_size, hid_size)\n",
        "        self.dec0 = nn.GRUCell(emb_size, hid_size)\n",
        "        self.logits = nn.Linear(hid_size * 2, len(out_voc))\n",
        "\n",
        "\n",
        "    def encode(self, inp, **flags):\n",
        "        \"\"\"\n",
        "        Takes symbolic input sequence, computes initial state\n",
        "        :param inp: matrix of input tokens [batch, time]\n",
        "        :return: a list of initial decoder state tensors\n",
        "        \"\"\"\n",
        "\n",
        "        # encode input sequence, create initial decoder states\n",
        "        # <YOUR CODE>\n",
        "        inp_emb = self.emb_inp(inp)\n",
        "        batch_size = inp.shape[0]\n",
        "\n",
        "        enc_seq, [last_state_but_not_really] = self.enc0(inp_emb)\n",
        "        # enc_seq: [batch, time, hid_size], last_state: [batch, hid_size]\n",
        "\n",
        "        # note: last_state is not _actually_ last because of padding, let's find the real last_state\n",
        "        lengths = (inp != self.inp_voc.eos_ix).to(torch.int64).sum(dim=1).clamp_max(inp.shape[1] - 1)\n",
        "        last_state = enc_seq[torch.arange(len(enc_seq)), lengths]\n",
        "\n",
        "        # initial decoder state\n",
        "        dec_start = self.dec_start(last_state)\n",
        "        # dec_start: [batch, hid_size]\n",
        "\n",
        "        # apply attention layer from initial decoder hidden state\n",
        "        enc_mask = self.out_voc.compute_mask(inp)\n",
        "        context, first_attn_probas = self.attent(enc=enc_seq, dec=dec_start, inp_mask=enc_mask)\n",
        "\n",
        "        # Build first state: include\n",
        "        # * initial states for decoder recurrent layers\n",
        "        # * encoder sequence and encoder attn mask (for attention)\n",
        "        # * make sure that last state item is attention probabilities tensor\n",
        "\n",
        "        first_state = [dec_start, enc_seq, enc_mask, first_attn_probas]\n",
        "\n",
        "        return first_state\n",
        "\n",
        "    def decode_step(self, prev_state, prev_tokens, **flags):\n",
        "        \"\"\"\n",
        "        Takes previous decoder state and tokens, returns new state and logits for next tokens\n",
        "        :param prev_state: a list of previous decoder state tensors\n",
        "        :param prev_tokens: previous output tokens, an int vector of [batch_size]\n",
        "        :return: a list of next decoder state tensors, a tensor of logits [batch, n_tokens]\n",
        "        \"\"\"\n",
        "\n",
        "        prev_gru0_state, enc_seq, enc_mask, _ = prev_state\n",
        "\n",
        "        # embedding\n",
        "        # print('prev_gru0_state.shape', prev_gru0_state.shape)\n",
        "        emb_prev_tokens = self.emb_out(prev_tokens)\n",
        "        # print('emb_prev_tokens.shape', emb_prev_tokens.shape)\n",
        "\n",
        "        new_state = self.dec0(emb_prev_tokens, prev_gru0_state)\n",
        "\n",
        "        # dec_start = prev_state[0]\n",
        "        # prev_tokens_embs = self.emb_out(prev_tokens)\n",
        "        # new_gru_activations = self.dec0(prev_tokens_embs, dec_start)\n",
        "\n",
        "        # attention of prev hiden state\n",
        "        attn, attn_prob = self.attent(enc_seq, prev_gru0_state, enc_mask)\n",
        "        context = torch.cat([new_state, attn], dim=-1)\n",
        "\n",
        "        # new hiden state computed from context aka prev hiden state with attention\n",
        "        output_logits = self.logits(context)\n",
        "\n",
        "        # return\n",
        "        new_dec_state = [new_state, enc_seq, enc_mask, attn_prob]\n",
        "\n",
        "        return new_dec_state, output_logits\n"
      ]
    },
    {
      "cell_type": "markdown",
      "metadata": {
        "id": "ryZCOTEslrtf"
      },
      "source": [
        "### Training attentive model\n",
        "\n",
        "Please reuse the infrastructure you've built for the regular model. I hope you didn't hard-code anything :)"
      ]
    },
    {
      "cell_type": "code",
      "execution_count": null,
      "metadata": {
        "id": "-YMHPgZxcFaQ"
      },
      "outputs": [],
      "source": [
        "# <YOUR CODE: create AttentiveModel and training utilities>\n",
        "\n",
        "metrics = {'train_loss': [], 'dev_bleu': [] }\n",
        "\n",
        "model = AttentiveModel(name='', inp_voc=inp_voc, out_voc=out_voc).to(device)\n",
        "opt = torch.optim.Adam(model.parameters(), lr=1e-3)\n",
        "batch_size = 32"
      ]
    },
    {
      "cell_type": "code",
      "execution_count": null,
      "metadata": {
        "id": "ErYzifD4FWAD",
        "colab": {
          "base_uri": "https://localhost:8080/",
          "height": 409
        },
        "outputId": "e2b34dba-a5d2-432e-f89d-4b7367fcd259"
      },
      "outputs": [
        {
          "output_type": "display_data",
          "data": {
            "text/plain": [
              "<Figure size 1200x400 with 2 Axes>"
            ],
            "image/png": "[encoded data removed]"
          },
          "metadata": {}
        },
        {
          "output_type": "stream",
          "name": "stdout",
          "text": [
            "Mean loss=1.619\n"
          ]
        }
      ],
      "source": [
        "for _ in range(25000):\n",
        "    step = len(metrics['train_loss']) + 1\n",
        "    batch_ix = np.random.randint(len(train_inp), size=batch_size)\n",
        "    batch_inp = inp_voc.to_matrix(train_inp[batch_ix]).to(device)\n",
        "    batch_out = out_voc.to_matrix(train_out[batch_ix]).to(device)\n",
        "\n",
        "    # <YOUR CODE: training step using batch_inp and batch_out>\n",
        "    loss_t = compute_loss(model, batch_inp, batch_out)\n",
        "    opt.zero_grad()\n",
        "    loss_t.backward()\n",
        "    opt.step()\n",
        "\n",
        "    metrics['train_loss'].append((step, loss_t.item()))\n",
        "\n",
        "    if step % 100 == 0:\n",
        "        metrics['dev_bleu'].append((step, compute_bleu(model, dev_inp, dev_out)))\n",
        "\n",
        "        clear_output(True)\n",
        "        plt.figure(figsize=(12,4))\n",
        "        for i, (name, history) in enumerate(sorted(metrics.items())):\n",
        "            plt.subplot(1, len(metrics), i + 1)\n",
        "            plt.title(name)\n",
        "            plt.plot(*zip(*history))\n",
        "            plt.grid()\n",
        "        plt.show()\n",
        "        print(\"Mean loss=%.3f\" % np.mean(metrics['train_loss'][-10:], axis=0)[1], flush=True)\n",
        "\n",
        "# Note: it's okay if bleu oscillates up and down as long as it gets better on average over long term (e.g. 5k batches)"
      ]
    },
    {
      "cell_type": "code",
      "execution_count": 1,
      "metadata": {
        "id": "83MC-RSQFWAD"
      },
      "outputs": [],
      "source": [
        "# # <YOUR CODE: measure final BLEU>\n",
        "# np.mean(metrics['dev_bleu'][-10:], axis=0)[1]"
      ]
    },
    {
      "cell_type": "markdown",
      "metadata": {
        "id": "KMFHPYlnFWAE"
      },
      "source": [
        "### Visualizing model attention (2 points)\n",
        "\n",
        "After training the attentive translation model, you can check it's sanity by visualizing its attention weights.\n",
        "\n",
        "We provided you with a function that draws attention maps using [`Bokeh`](https://bokeh.pydata.org/en/latest/index.html). Once you managed to produce something better than random noise, please save at least 3 attention maps and __submit them to anytask__ alongside this notebook to get the max grade. Saving bokeh figures as __cell outputs is not enough!__ (TAs can't see saved bokeh figures in anytask). You can save bokeh images as screenshots or using this button:\n",
        "\n",
        "![bokeh_panel](https://github.com/yandexdataschool/nlp_course/raw/2019/resources/bokeh_panel.png)\n",
        "\n",
        "__Note:__ you're not locked into using bokeh. If you prefer a different visualization method, feel free to use that instead of bokeh."
      ]
    },
    {
      "cell_type": "code",
      "execution_count": null,
      "metadata": {
        "id": "FSMSAESnFWAE"
      },
      "outputs": [],
      "source": [
        "import bokeh.plotting as pl\n",
        "import bokeh.models as bm\n",
        "from bokeh.io import output_notebook, show\n",
        "output_notebook()\n",
        "\n",
        "def draw_attention(inp_line, translation, probs):\n",
        "    \"\"\" An intentionally ambiguous function to visualize attention weights \"\"\"\n",
        "    inp_tokens = inp_voc.tokenize(inp_line)\n",
        "    trans_tokens = out_voc.tokenize(translation)\n",
        "    probs = probs[:len(trans_tokens), :len(inp_tokens)]\n",
        "\n",
        "    fig = pl.figure(x_range=(0, len(inp_tokens)), y_range=(0, len(trans_tokens)),\n",
        "                    x_axis_type=None, y_axis_type=None, tools=[])\n",
        "    fig.image([probs[::-1]], 0, 0, len(inp_tokens), len(trans_tokens))\n",
        "\n",
        "    fig.add_layout(bm.LinearAxis(axis_label='source tokens'), 'above')\n",
        "    fig.xaxis.ticker = np.arange(len(inp_tokens)) + 0.5\n",
        "    fig.xaxis.major_label_overrides = dict(zip(np.arange(len(inp_tokens)) + 0.5, inp_tokens))\n",
        "    fig.xaxis.major_label_orientation = 45\n",
        "\n",
        "    fig.add_layout(bm.LinearAxis(axis_label='translation tokens'), 'left')\n",
        "    fig.yaxis.ticker = np.arange(len(trans_tokens)) + 0.5\n",
        "    fig.yaxis.major_label_overrides = dict(zip(np.arange(len(trans_tokens)) + 0.5, trans_tokens[::-1]))\n",
        "\n",
        "    show(fig)"
      ]
    },
    {
      "cell_type": "code",
      "execution_count": null,
      "metadata": {
        "id": "rDG7OysMFWAE"
      },
      "outputs": [],
      "source": [
        "inp = dev_inp[::500]\n",
        "\n",
        "trans, states = model.translate_lines(inp)\n",
        "\n",
        "# select attention probs from model state (you may need to change this for your custom model)\n",
        "# attention_probs below must have shape [batch_size, translation_length, input_length], extracted from states\n",
        "# e.g. if attention probs are at the end of each state, use np.stack([state[-1] for state in states], axis=1)\n",
        "# attention_probs = <YOUR CODE>\n",
        "attention_probs = np.array([state[-1].tolist() for state in states])                     # attention_probs = np.stack([state[-1].cpu().detach().numpy() for state in states], axis=1)\n",
        "attention_probs = np.transpose(attention_probs, axes=[1, 0, 2])"
      ]
    },
    {
      "cell_type": "code",
      "execution_count": null,
      "metadata": {
        "id": "1MNnz-VTFWAI",
        "colab": {
          "base_uri": "https://localhost:8080/",
          "height": 1000
        },
        "outputId": "b8f3cb3a-4b6b-4d22-9576-7d253e743f5d"
      },
      "outputs": [
        {
          "output_type": "display_data",
          "data": {
            "application/javascript": [
              "(function(root) {\n",
              "  function now() {\n",
              "    return new Date();\n",
              "  }\n",
              "\n",
              "  const force = true;\n",
              "\n",
              "  if (typeof root._bokeh_onload_callbacks === \"undefined\" || force === true) {\n",
              "    root._bokeh_onload_callbacks = [];\n",
              "    root._bokeh_is_loading = undefined;\n",
              "  }\n",
              "\n",
              "const JS_MIME_TYPE = 'application/javascript';\n",
              "  const HTML_MIME_TYPE = 'text/html';\n",
              "  const EXEC_MIME_TYPE = 'application/vnd.bokehjs_exec.v0+json';\n",
              "  const CLASS_NAME = 'output_bokeh rendered_html';\n",
              "\n",
              "  /**\n",
              "   * Render data to the DOM node\n",
              "   */\n",
              "  function render(props, node) {\n",
              "    const script = document.createElement(\"script\");\n",
              "    node.appendChild(script);\n",
              "  }\n",
              "\n",
              "  /**\n",
              "   * Handle when an output is cleared or removed\n",
              "   */\n",
              "  function handleClearOutput(event, handle) {\n",
              "    function drop(id) {\n",
              "      const view = Bokeh.index.get_by_id(id)\n",
              "      if (view != null) {\n",
              "        view.model.document.clear()\n",
              "        Bokeh.index.delete(view)\n",
              "      }\n",
              "    }\n",
              "\n",
              "    const cell = handle.cell;\n",
              "\n",
              "    const id = cell.output_area._bokeh_element_id;\n",
              "    const server_id = cell.output_area._bokeh_server_id;\n",
              "\n",
              "    // Clean up Bokeh references\n",
              "    if (id != null) {\n",
              "      drop(id)\n",
              "    }\n",
              "\n",
              "    if (server_id !== undefined) {\n",
              "      // Clean up Bokeh references\n",
              "      const cmd_clean = \"from bokeh.io.state import curstate; print(curstate().uuid_to_server['\" + server_id + \"'].get_sessions()[0].document.roots[0]._id)\";\n",
              "      cell.notebook.kernel.execute(cmd_clean, {\n",
              "        iopub: {\n",
              "          output: function(msg) {\n",
              "            const id = msg.content.text.trim()\n",
              "            drop(id)\n",
              "          }\n",
              "        }\n",
              "      });\n",
              "      // Destroy server and session\n",
              "      const cmd_destroy = \"import bokeh.io.notebook as ion; ion.destroy_server('\" + server_id + \"')\";\n",
              "      cell.notebook.kernel.execute(cmd_destroy);\n",
              "    }\n",
              "  }\n",
              "\n",
              "  /**\n",
              "   * Handle when a new output is added\n",
              "   */\n",
              "  function handleAddOutput(event, handle) {\n",
              "    const output_area = handle.output_area;\n",
              "    const output = handle.output;\n",
              "\n",
              "    // limit handleAddOutput to display_data with EXEC_MIME_TYPE content only\n",
              "    if ((output.output_type != \"display_data\") || (!Object.prototype.hasOwnProperty.call(output.data, EXEC_MIME_TYPE))) {\n",
              "      return\n",
              "    }\n",
              "\n",
              "    const toinsert = output_area.element.find(\".\" + CLASS_NAME.split(' ')[0]);\n",
              "\n",
              "    if (output.metadata[EXEC_MIME_TYPE][\"id\"] !== undefined) {\n",
              "      toinsert[toinsert.length - 1].firstChild.textContent = output.data[JS_MIME_TYPE];\n",
              "      // store reference to embed id on output_area\n",
              "      output_area._bokeh_element_id = output.metadata[EXEC_MIME_TYPE][\"id\"];\n",
              "    }\n",
              "    if (output.metadata[EXEC_MIME_TYPE][\"server_id\"] !== undefined) {\n",
              "      const bk_div = document.createElement(\"div\");\n",
              "      bk_div.innerHTML = output.data[HTML_MIME_TYPE];\n",
              "      const script_attrs = bk_div.children[0].attributes;\n",
              "      for (let i = 0; i < script_attrs.length; i++) {\n",
              "        toinsert[toinsert.length - 1].firstChild.setAttribute(script_attrs[i].name, script_attrs[i].value);\n",
              "        toinsert[toinsert.length - 1].firstChild.textContent = bk_div.children[0].textContent\n",
              "      }\n",
              "      // store reference to server id on output_area\n",
              "      output_area._bokeh_server_id = output.metadata[EXEC_MIME_TYPE][\"server_id\"];\n",
              "    }\n",
              "  }\n",
              "\n",
              "  function register_renderer(events, OutputArea) {\n",
              "\n",
              "    function append_mime(data, metadata, element) {\n",
              "      // create a DOM node to render to\n",
              "      const toinsert = this.create_output_subarea(\n",
              "        metadata,\n",
              "        CLASS_NAME,\n",
              "        EXEC_MIME_TYPE\n",
              "      );\n",
              "      this.keyboard_manager.register_events(toinsert);\n",
              "      // Render to node\n",
              "      const props = {data: data, metadata: metadata[EXEC_MIME_TYPE]};\n",
              "      render(props, toinsert[toinsert.length - 1]);\n",
              "      element.append(toinsert);\n",
              "      return toinsert\n",
              "    }\n",
              "\n",
              "    /* Handle when an output is cleared or removed */\n",
              "    events.on('clear_output.CodeCell', handleClearOutput);\n",
              "    events.on('delete.Cell', handleClearOutput);\n",
              "\n",
              "    /* Handle when a new output is added */\n",
              "    events.on('output_added.OutputArea', handleAddOutput);\n",
              "\n",
              "    /**\n",
              "     * Register the mime type and append_mime function with output_area\n",
              "     */\n",
              "    OutputArea.prototype.register_mime_type(EXEC_MIME_TYPE, append_mime, {\n",
              "      /* Is output safe? */\n",
              "      safe: true,\n",
              "      /* Index of renderer in `output_area.display_order` */\n",
              "      index: 0\n",
              "    });\n",
              "  }\n",
              "\n",
              "  // register the mime type if in Jupyter Notebook environment and previously unregistered\n",
              "  if (root.Jupyter !== undefined) {\n",
              "    const events = require('base/js/events');\n",
              "    const OutputArea = require('notebook/js/outputarea').OutputArea;\n",
              "\n",
              "    if (OutputArea.prototype.mime_types().indexOf(EXEC_MIME_TYPE) == -1) {\n",
              "      register_renderer(events, OutputArea);\n",
              "    }\n",
              "  }\n",
              "  if (typeof (root._bokeh_timeout) === \"undefined\" || force === true) {\n",
              "    root._bokeh_timeout = Date.now() + 5000;\n",
              "    root._bokeh_failed_load = false;\n",
              "  }\n",
              "\n",
              "  const NB_LOAD_WARNING = {'data': {'text/html':\n",
              "     \"<div style='background-color: #fdd'>\\n\"+\n",
              "     \"<p>\\n\"+\n",
              "     \"BokehJS does not appear to have successfully loaded. If loading BokehJS from CDN, this \\n\"+\n",
              "     \"may be due to a slow or bad network connection. Possible fixes:\\n\"+\n",
              "     \"</p>\\n\"+\n",
              "     \"<ul>\\n\"+\n",
              "     \"<li>re-rerun `output_notebook()` to attempt to load from CDN again, or</li>\\n\"+\n",
              "     \"<li>use INLINE resources instead, as so:</li>\\n\"+\n",
              "     \"</ul>\\n\"+\n",
              "     \"<code>\\n\"+\n",
              "     \"from bokeh.resources import INLINE\\n\"+\n",
              "     \"output_notebook(resources=INLINE)\\n\"+\n",
              "     \"</code>\\n\"+\n",
              "     \"</div>\"}};\n",
              "\n",
              "  function display_loaded() {\n",
              "    const el = document.getElementById(null);\n",
              "    if (el != null) {\n",
              "      el.textContent = \"BokehJS is loading...\";\n",
              "    }\n",
              "    if (root.Bokeh !== undefined) {\n",
              "      if (el != null) {\n",
              "        el.textContent = \"BokehJS \" + root.Bokeh.version + \" successfully loaded.\";\n",
              "      }\n",
              "    } else if (Date.now() < root._bokeh_timeout) {\n",
              "      setTimeout(display_loaded, 100)\n",
              "    }\n",
              "  }\n",
              "\n",
              "  function run_callbacks() {\n",
              "    try {\n",
              "      root._bokeh_onload_callbacks.forEach(function(callback) {\n",
              "        if (callback != null)\n",
              "          callback();\n",
              "      });\n",
              "    } finally {\n",
              "      delete root._bokeh_onload_callbacks\n",
              "    }\n",
              "    console.debug(\"Bokeh: all callbacks have finished\");\n",
              "  }\n",
              "\n",
              "  function load_libs(css_urls, js_urls, callback) {\n",
              "    if (css_urls == null) css_urls = [];\n",
              "    if (js_urls == null) js_urls = [];\n",
              "\n",
              "    root._bokeh_onload_callbacks.push(callback);\n",
              "    if (root._bokeh_is_loading > 0) {\n",
              "      console.debug(\"Bokeh: BokehJS is being loaded, scheduling callback at\", now());\n",
              "      return null;\n",
              "    }\n",
              "    if (js_urls == null || js_urls.length === 0) {\n",
              "      run_callbacks();\n",
              "      return null;\n",
              "    }\n",
              "    console.debug(\"Bokeh: BokehJS not loaded, scheduling load and callback at\", now());\n",
              "    root._bokeh_is_loading = css_urls.length + js_urls.length;\n",
              "\n",
              "    function on_load() {\n",
              "      root._bokeh_is_loading--;\n",
              "      if (root._bokeh_is_loading === 0) {\n",
              "        console.debug(\"Bokeh: all BokehJS libraries/stylesheets loaded\");\n",
              "        run_callbacks()\n",
              "      }\n",
              "    }\n",
              "\n",
              "    function on_error(url) {\n",
              "      console.error(\"failed to load \" + url);\n",
              "    }\n",
              "\n",
              "    for (let i = 0; i < css_urls.length; i++) {\n",
              "      const url = css_urls[i];\n",
              "      const element = document.createElement(\"link\");\n",
              "      element.onload = on_load;\n",
              "      element.onerror = on_error.bind(null, url);\n",
              "      element.rel = \"stylesheet\";\n",
              "      element.type = \"text/css\";\n",
              "      element.href = url;\n",
              "      console.debug(\"Bokeh: injecting link tag for BokehJS stylesheet: \", url);\n",
              "      document.body.appendChild(element);\n",
              "    }\n",
              "\n",
              "    for (let i = 0; i < js_urls.length; i++) {\n",
              "      const url = js_urls[i];\n",
              "      const element = document.createElement('script');\n",
              "      element.onload = on_load;\n",
              "      element.onerror = on_error.bind(null, url);\n",
              "      element.async = false;\n",
              "      element.src = url;\n",
              "      console.debug(\"Bokeh: injecting script tag for BokehJS library: \", url);\n",
              "      document.head.appendChild(element);\n",
              "    }\n",
              "  };\n",
              "\n",
              "  function inject_raw_css(css) {\n",
              "    const element = document.createElement(\"style\");\n",
              "    element.appendChild(document.createTextNode(css));\n",
              "    document.body.appendChild(element);\n",
              "  }\n",
              "\n",
              "  const js_urls = [\"https://cdn.bokeh.org/bokeh/release/bokeh-3.3.4.min.js\", \"https://cdn.bokeh.org/bokeh/release/bokeh-gl-3.3.4.min.js\", \"https://cdn.bokeh.org/bokeh/release/bokeh-widgets-3.3.4.min.js\", \"https://cdn.bokeh.org/bokeh/release/bokeh-tables-3.3.4.min.js\", \"https://cdn.bokeh.org/bokeh/release/bokeh-mathjax-3.3.4.min.js\"];\n",
              "  const css_urls = [];\n",
              "\n",
              "  const inline_js = [    function(Bokeh) {\n",
              "      Bokeh.set_log_level(\"info\");\n",
              "    },\n",
              "function(Bokeh) {\n",
              "    }\n",
              "  ];\n",
              "\n",
              "  function run_inline_js() {\n",
              "    if (root.Bokeh !== undefined || force === true) {\n",
              "          for (let i = 0; i < inline_js.length; i++) {\n",
              "      inline_js[i].call(root, root.Bokeh);\n",
              "    }\n",
              "} else if (Date.now() < root._bokeh_timeout) {\n",
              "      setTimeout(run_inline_js, 100);\n",
              "    } else if (!root._bokeh_failed_load) {\n",
              "      console.log(\"Bokeh: BokehJS failed to load within specified timeout.\");\n",
              "      root._bokeh_failed_load = true;\n",
              "    } else if (force !== true) {\n",
              "      const cell = $(document.getElementById(null)).parents('.cell').data().cell;\n",
              "      cell.output_area.append_execute_result(NB_LOAD_WARNING)\n",
              "    }\n",
              "  }\n",
              "\n",
              "  if (root._bokeh_is_loading === 0) {\n",
              "    console.debug(\"Bokeh: BokehJS loaded, going straight to plotting\");\n",
              "    run_inline_js();\n",
              "  } else {\n",
              "    load_libs(css_urls, js_urls, function() {\n",
              "      console.debug(\"Bokeh: BokehJS plotting callback run at\", now());\n",
              "      run_inline_js();\n",
              "    });\n",
              "  }\n",
              "}(window));"
            ],
            "application/vnd.bokehjs_load.v0+json": "(function(root) {\n  function now() {\n    return new Date();\n  }\n\n  const force = true;\n\n  if (typeof root._bokeh_onload_callbacks === \"undefined\" || force === true) {\n    root._bokeh_onload_callbacks = [];\n    root._bokeh_is_loading = undefined;\n  }\n\n\n  if (typeof (root._bokeh_timeout) === \"undefined\" || force === true) {\n    root._bokeh_timeout = Date.now() + 5000;\n    root._bokeh_failed_load = false;\n  }\n\n  const NB_LOAD_WARNING = {'data': {'text/html':\n     \"<div style='background-color: #fdd'>\\n\"+\n     \"<p>\\n\"+\n     \"BokehJS does not appear to have successfully loaded. If loading BokehJS from CDN, this \\n\"+\n     \"may be due to a slow or bad network connection. Possible fixes:\\n\"+\n     \"</p>\\n\"+\n     \"<ul>\\n\"+\n     \"<li>re-rerun `output_notebook()` to attempt to load from CDN again, or</li>\\n\"+\n     \"<li>use INLINE resources instead, as so:</li>\\n\"+\n     \"</ul>\\n\"+\n     \"<code>\\n\"+\n     \"from bokeh.resources import INLINE\\n\"+\n     \"output_notebook(resources=INLINE)\\n\"+\n     \"</code>\\n\"+\n     \"</div>\"}};\n\n  function display_loaded() {\n    const el = document.getElementById(null);\n    if (el != null) {\n      el.textContent = \"BokehJS is loading...\";\n    }\n    if (root.Bokeh !== undefined) {\n      if (el != null) {\n        el.textContent = \"BokehJS \" + root.Bokeh.version + \" successfully loaded.\";\n      }\n    } else if (Date.now() < root._bokeh_timeout) {\n      setTimeout(display_loaded, 100)\n    }\n  }\n\n  function run_callbacks() {\n    try {\n      root._bokeh_onload_callbacks.forEach(function(callback) {\n        if (callback != null)\n          callback();\n      });\n    } finally {\n      delete root._bokeh_onload_callbacks\n    }\n    console.debug(\"Bokeh: all callbacks have finished\");\n  }\n\n  function load_libs(css_urls, js_urls, callback) {\n    if (css_urls == null) css_urls = [];\n    if (js_urls == null) js_urls = [];\n\n    root._bokeh_onload_callbacks.push(callback);\n    if (root._bokeh_is_loading > 0) {\n      console.debug(\"Bokeh: BokehJS is being loaded, scheduling callback at\", now());\n      return null;\n    }\n    if (js_urls == null || js_urls.length === 0) {\n      run_callbacks();\n      return null;\n    }\n    console.debug(\"Bokeh: BokehJS not loaded, scheduling load and callback at\", now());\n    root._bokeh_is_loading = css_urls.length + js_urls.length;\n\n    function on_load() {\n      root._bokeh_is_loading--;\n      if (root._bokeh_is_loading === 0) {\n        console.debug(\"Bokeh: all BokehJS libraries/stylesheets loaded\");\n        run_callbacks()\n      }\n    }\n\n    function on_error(url) {\n      console.error(\"failed to load \" + url);\n    }\n\n    for (let i = 0; i < css_urls.length; i++) {\n      const url = css_urls[i];\n      const element = document.createElement(\"link\");\n      element.onload = on_load;\n      element.onerror = on_error.bind(null, url);\n      element.rel = \"stylesheet\";\n      element.type = \"text/css\";\n      element.href = url;\n      console.debug(\"Bokeh: injecting link tag for BokehJS stylesheet: \", url);\n      document.body.appendChild(element);\n    }\n\n    for (let i = 0; i < js_urls.length; i++) {\n      const url = js_urls[i];\n      const element = document.createElement('script');\n      element.onload = on_load;\n      element.onerror = on_error.bind(null, url);\n      element.async = false;\n      element.src = url;\n      console.debug(\"Bokeh: injecting script tag for BokehJS library: \", url);\n      document.head.appendChild(element);\n    }\n  };\n\n  function inject_raw_css(css) {\n    const element = document.createElement(\"style\");\n    element.appendChild(document.createTextNode(css));\n    document.body.appendChild(element);\n  }\n\n  const js_urls = [\"https://cdn.bokeh.org/bokeh/release/bokeh-3.3.4.min.js\", \"https://cdn.bokeh.org/bokeh/release/bokeh-gl-3.3.4.min.js\", \"https://cdn.bokeh.org/bokeh/release/bokeh-widgets-3.3.4.min.js\", \"https://cdn.bokeh.org/bokeh/release/bokeh-tables-3.3.4.min.js\", \"https://cdn.bokeh.org/bokeh/release/bokeh-mathjax-3.3.4.min.js\"];\n  const css_urls = [];\n\n  const inline_js = [    function(Bokeh) {\n      Bokeh.set_log_level(\"info\");\n    },\nfunction(Bokeh) {\n    }\n  ];\n\n  function run_inline_js() {\n    if (root.Bokeh !== undefined || force === true) {\n          for (let i = 0; i < inline_js.length; i++) {\n      inline_js[i].call(root, root.Bokeh);\n    }\n} else if (Date.now() < root._bokeh_timeout) {\n      setTimeout(run_inline_js, 100);\n    } else if (!root._bokeh_failed_load) {\n      console.log(\"Bokeh: BokehJS failed to load within specified timeout.\");\n      root._bokeh_failed_load = true;\n    } else if (force !== true) {\n      const cell = $(document.getElementById(null)).parents('.cell').data().cell;\n      cell.output_area.append_execute_result(NB_LOAD_WARNING)\n    }\n  }\n\n  if (root._bokeh_is_loading === 0) {\n    console.debug(\"Bokeh: BokehJS loaded, going straight to plotting\");\n    run_inline_js();\n  } else {\n    load_libs(css_urls, js_urls, function() {\n      console.debug(\"Bokeh: BokehJS plotting callback run at\", now());\n      run_inline_js();\n    });\n  }\n}(window));"
          },
          "metadata": {}
        },
        {
          "output_type": "display_data",
          "data": {
            "text/html": [
              "\n",
              "  <div id=\"af149690-496e-4e5c-a20e-a3a0d2739bbe\" data-root-id=\"p1001\" style=\"display: contents;\"></div>\n"
            ]
          },
          "metadata": {}
        },
        {
          "output_type": "display_data",
          "data": {
            "application/javascript": [
              "(function(root) {\n",
              "  function embed_document(root) {\n",
              "  const docs_json = {\"c7aa3ec5-ae2c-41bb-9afd-df3dd969c405\":{\"version\":\"3.3.4\",\"title\":\"Bokeh Application\",\"roots\":[{\"type\":\"object\",\"name\":\"Figure\",\"id\":\"p1001\",\"attributes\":{\"x_range\":{\"type\":\"object\",\"name\":\"Range1d\",\"id\":\"p1010\",\"attributes\":{\"end\":11}},\"y_range\":{\"type\":\"object\",\"name\":\"Range1d\",\"id\":\"p1011\",\"attributes\":{\"end\":12}},\"x_scale\":{\"type\":\"object\",\"name\":\"LinearScale\",\"id\":\"p1012\"},\"y_scale\":{\"type\":\"object\",\"name\":\"LinearScale\",\"id\":\"p1013\"},\"title\":{\"type\":\"object\",\"name\":\"Title\",\"id\":\"p1008\"},\"renderers\":[{\"type\":\"object\",\"name\":\"GlyphRenderer\",\"id\":\"p1026\",\"attributes\":{\"data_source\":{\"type\":\"object\",\"name\":\"ColumnDataSource\",\"id\":\"p1014\",\"attributes\":{\"selected\":{\"type\":\"object\",\"name\":\"Selection\",\"id\":\"p1015\",\"attributes\":{\"indices\":[],\"line_indices\":[]}},\"selection_policy\":{\"type\":\"object\",\"name\":\"UnionRenderers\",\"id\":\"p1016\"},\"data\":{\"type\":\"map\",\"entries\":[[\"image\",[{\"type\":\"ndarray\",\"array\":{\"type\":\"bytes\",\"data\":\"AAAA4BOh7r8AAAAg2Z/vvwAAAOCNR+0/AAAAgHH9778AAACA9ePvPwAAAOD3/+8/AAAAYNHE6L8AAAAgXn4VQAAAAMBe5O+/AAAAYCfk778AAACADuzuvwAAAECwD+o/AAAAQOTM7z8AAAAgJf7vvwAAAABVUu+/AAAAgBPP778AAABg8sfvPwAAAADXxto/AAAAgJ9/FUAAAABAxAPSvwAAAABHxO8/AAAAgFRr5L8AAADgwO7qvwAAAMC/6+Q/AAAAgOTz778AAABghOPhvwAAAIDALe8/AAAAwIVs4L8AAACgIVrtPwAAAOBMgBVAAAAAIP5Z0T8AAAAghS7rPwAAAEBoeeS/AAAA4Lai4T8AAADAFC7vvwAAAABp/O2/AAAAwCy5578AAAAgRdbtPwAAAMCz5u6/AAAAYNqC7r8AAABgaIIVQAAAACD0oOO/AAAAQAnd7L8AAACgl+3uvwAAAKB52+0/AAAA4IjQ7T8AAAAAuv/vvwAAAKDxC++/AAAAwN7+778AAAAAE0fuPwAAAMCTSuK/AAAAYLyCFUAAAABg8UjhvwAAAOD0be6/AAAAoC8p7r8AAABARGDpPwAAAACKzO8/AAAAIHj9778AAACAbh3vvwAAAAAKIO6/AAAAIOnV7z8AAADgpd3mPwAAAGDbghVAAAAAIGIr5L8AAABgz0PvPwAAAECZbO6/AAAAoKrQ678AAADgnnzjPwAAAMAWxu+/AAAAYKdW578AAADg9OHvPwAAAKCKXem/AAAA4KH87T8AAABA+YIVQAAAAKAfUd8/AAAAABTSwD8AAABgzW/uvwAAAOBS2dY/AAAAAOyU778AAADg4MfjvwAAAGCATee/AAAAYDPE7z8AAADg2CvvvwAAAKC49NA/AAAAYP+DFUAAAAAAYqzkvwAAAEAR5+q/AAAAgJmz778AAAAAWKbqPwAAAMAK0e+/AAAAYNH17z8AAADAutTsvwAAAOD//++/AAAAgB9g5D8AAADglffvPwAAACAMhBVAAAAA4ArG7b8AAACAa9jvvwAAAGAeye6/AAAAAI0v7z8AAAAAAYPnPwAAACB0Mu+/AAAAgESF678AAAAA/+LvvwAAAKC1qeU/AAAAAIrJ778AAACANIQVQAAAAIDiOQFAAAAAYASE5T8AAAAgBDPtvwAAAKDg58e/AAAAIDTM4T8AAACgF5nuvwAAAOD4nNm/AAAAQGPdC0AAAABgaifUPwAAAOBd2cu/AAAAgGGSFUAAAAAggW8gQAAAAOC0uOE/AAAAYLc77r8AAACAx7sCQAAAAGB2exjAAAAAYDj+uz8AAAAAXeXvvwAAAIAW0xJAAAAAAH4e1D8AAABAjaEIQAAAAKAXmBVAAAAAwERxIEAAAADgxszhPwAAAMCTDvG/\"},\"shape\":[12,11],\"dtype\":\"float64\",\"order\":\"little\"}]]]}}},\"view\":{\"type\":\"object\",\"name\":\"CDSView\",\"id\":\"p1027\",\"attributes\":{\"filter\":{\"type\":\"object\",\"name\":\"AllIndices\",\"id\":\"p1028\"}}},\"glyph\":{\"type\":\"object\",\"name\":\"Image\",\"id\":\"p1017\",\"attributes\":{\"x\":{\"type\":\"value\",\"value\":0},\"y\":{\"type\":\"value\",\"value\":0},\"dw\":{\"type\":\"value\",\"value\":11},\"dh\":{\"type\":\"value\",\"value\":12},\"image\":{\"type\":\"field\",\"field\":\"image\"},\"color_mapper\":{\"type\":\"object\",\"name\":\"LinearColorMapper\",\"id\":\"p1018\",\"attributes\":{\"palette\":[\"#000000\",\"#252525\",\"#525252\",\"#737373\",\"#969696\",\"#bdbdbd\",\"#d9d9d9\",\"#f0f0f0\",\"#ffffff\"]}}}},\"nonselection_glyph\":{\"type\":\"object\",\"name\":\"Image\",\"id\":\"p1020\",\"attributes\":{\"x\":{\"type\":\"value\",\"value\":0},\"y\":{\"type\":\"value\",\"value\":0},\"dw\":{\"type\":\"value\",\"value\":11},\"dh\":{\"type\":\"value\",\"value\":12},\"global_alpha\":{\"type\":\"value\",\"value\":0.1},\"image\":{\"type\":\"field\",\"field\":\"image\"},\"color_mapper\":{\"type\":\"object\",\"name\":\"LinearColorMapper\",\"id\":\"p1021\",\"attributes\":{\"palette\":[\"#000000\",\"#252525\",\"#525252\",\"#737373\",\"#969696\",\"#bdbdbd\",\"#d9d9d9\",\"#f0f0f0\",\"#ffffff\"]}}}},\"muted_glyph\":{\"type\":\"object\",\"name\":\"Image\",\"id\":\"p1023\",\"attributes\":{\"x\":{\"type\":\"value\",\"value\":0},\"y\":{\"type\":\"value\",\"value\":0},\"dw\":{\"type\":\"value\",\"value\":11},\"dh\":{\"type\":\"value\",\"value\":12},\"global_alpha\":{\"type\":\"value\",\"value\":0.2},\"image\":{\"type\":\"field\",\"field\":\"image\"},\"color_mapper\":{\"type\":\"object\",\"name\":\"LinearColorMapper\",\"id\":\"p1024\",\"attributes\":{\"palette\":[\"#000000\",\"#252525\",\"#525252\",\"#737373\",\"#969696\",\"#bdbdbd\",\"#d9d9d9\",\"#f0f0f0\",\"#ffffff\"]}}}}}}],\"toolbar\":{\"type\":\"object\",\"name\":\"Toolbar\",\"id\":\"p1009\"},\"left\":[{\"type\":\"object\",\"name\":\"LinearAxis\",\"id\":\"p1034\",\"attributes\":{\"ticker\":{\"type\":\"object\",\"name\":\"FixedTicker\",\"id\":\"p1038\",\"attributes\":{\"ticks\":{\"type\":\"ndarray\",\"array\":{\"type\":\"bytes\",\"data\":\"AAAAAAAA4D8AAAAAAAD4PwAAAAAAAARAAAAAAAAADEAAAAAAAAASQAAAAAAAABZAAAAAAAAAGkAAAAAAAAAeQAAAAAAAACFAAAAAAAAAI0AAAAAAAAAlQAAAAAAAACdA\"},\"shape\":[12],\"dtype\":\"float64\",\"order\":\"little\"},\"minor_ticks\":[]}},\"formatter\":{\"type\":\"object\",\"name\":\"BasicTickFormatter\",\"id\":\"p1036\"},\"axis_label\":\"translation tokens\",\"major_label_overrides\":{\"type\":\"map\",\"entries\":[[0.5,\"_EOS_\"],[1.5,\".\"],[2.5,\"kitchen\"],[3.5,\"shared\"],[4.5,\"a\"],[5.5,\"and\"],[6.5,\"kitchen\"],[7.5,\"shared\"],[8.5,\"a\"],[9.5,\"is\"],[10.5,\"there\"],[11.5,\"_BOS_\"]]},\"major_label_policy\":{\"type\":\"object\",\"name\":\"AllLabels\",\"id\":\"p1037\"}}}],\"above\":[{\"type\":\"object\",\"name\":\"LinearAxis\",\"id\":\"p1029\",\"attributes\":{\"ticker\":{\"type\":\"object\",\"name\":\"FixedTicker\",\"id\":\"p1033\",\"attributes\":{\"ticks\":{\"type\":\"ndarray\",\"array\":{\"type\":\"bytes\",\"data\":\"AAAAAAAA4D8AAAAAAAD4PwAAAAAAAARAAAAAAAAADEAAAAAAAAASQAAAAAAAABZAAAAAAAAAGkAAAAAAAAAeQAAAAAAAACFAAAAAAAAAI0AAAAAAAAAlQA==\"},\"shape\":[11],\"dtype\":\"float64\",\"order\":\"little\"},\"minor_ticks\":[]}},\"formatter\":{\"type\":\"object\",\"name\":\"BasicTickFormatter\",\"id\":\"p1031\"},\"axis_label\":\"source tokens\",\"major_label_orientation\":45,\"major_label_overrides\":{\"type\":\"map\",\"entries\":[[0.5,\"_BOS_\"],[1.5,\"\\u0432\"],[2.5,\"\\u0440\\u0430\\u0441\\u043f\\u043e\\u0440\\u044f\\u0436\\u0435\\u043d\\u0438\\u0438\"],[3.5,\"\\u0433\\u043e\\u0441\\u0442\\u0435\\u0439\"],[4.5,\"\\u043e\\u0431\\u0449\\u0430\\u044f\"],[5.5,\"\\u043a\\u0443\\u0445\\u043d\\u044f\"],[6.5,\"\\u0438\"],[7.5,\"\\u043e\\u0431\\u0449\\u0430\\u044f\"],[8.5,\"\\u0433\\u043e\\u0441\\u0442\\u0438\\u043d\\u0430\\u044f\"],[9.5,\".\"],[10.5,\"_EOS_\"]]},\"major_label_policy\":{\"type\":\"object\",\"name\":\"AllLabels\",\"id\":\"p1032\"}}}]}}]}};\n",
              "  const render_items = [{\"docid\":\"c7aa3ec5-ae2c-41bb-9afd-df3dd969c405\",\"roots\":{\"p1001\":\"af149690-496e-4e5c-a20e-a3a0d2739bbe\"},\"root_ids\":[\"p1001\"]}];\n",
              "  root.Bokeh.embed.embed_items_notebook(docs_json, render_items);\n",
              "  }\n",
              "  if (root.Bokeh !== undefined) {\n",
              "    embed_document(root);\n",
              "  } else {\n",
              "    let attempts = 0;\n",
              "    const timer = setInterval(function(root) {\n",
              "      if (root.Bokeh !== undefined) {\n",
              "        clearInterval(timer);\n",
              "        embed_document(root);\n",
              "      } else {\n",
              "        attempts++;\n",
              "        if (attempts > 100) {\n",
              "          clearInterval(timer);\n",
              "          console.log(\"Bokeh: ERROR: Unable to run BokehJS code because BokehJS library is missing\");\n",
              "        }\n",
              "      }\n",
              "    }, 10, root)\n",
              "  }\n",
              "})(window);"
            ],
            "application/vnd.bokehjs_exec.v0+json": ""
          },
          "metadata": {
            "application/vnd.bokehjs_exec.v0+json": {
              "id": "p1001"
            }
          }
        },
        {
          "output_type": "display_data",
          "data": {
            "text/html": [
              "\n",
              "  <div id=\"a12b181c-6af6-4666-8246-07c7b43036ed\" data-root-id=\"p1042\" style=\"display: contents;\"></div>\n"
            ]
          },
          "metadata": {}
        },
        {
          "output_type": "display_data",
          "data": {
            "application/javascript": [
              "(function(root) {\n",
              "  function embed_document(root) {\n",
              "  const docs_json = {\"f0e04d24-4c40-4669-a208-307ea8bfa2c9\":{\"version\":\"3.3.4\",\"title\":\"Bokeh Application\",\"roots\":[{\"type\":\"object\",\"name\":\"Figure\",\"id\":\"p1042\",\"attributes\":{\"x_range\":{\"type\":\"object\",\"name\":\"Range1d\",\"id\":\"p1051\",\"attributes\":{\"end\":15}},\"y_range\":{\"type\":\"object\",\"name\":\"Range1d\",\"id\":\"p1052\",\"attributes\":{\"end\":12}},\"x_scale\":{\"type\":\"object\",\"name\":\"LinearScale\",\"id\":\"p1053\"},\"y_scale\":{\"type\":\"object\",\"name\":\"LinearScale\",\"id\":\"p1054\"},\"title\":{\"type\":\"object\",\"name\":\"Title\",\"id\":\"p1049\"},\"renderers\":[{\"type\":\"object\",\"name\":\"GlyphRenderer\",\"id\":\"p1067\",\"attributes\":{\"data_source\":{\"type\":\"object\",\"name\":\"ColumnDataSource\",\"id\":\"p1055\",\"attributes\":{\"selected\":{\"type\":\"object\",\"name\":\"Selection\",\"id\":\"p1056\",\"attributes\":{\"indices\":[],\"line_indices\":[]}},\"selection_policy\":{\"type\":\"object\",\"name\":\"UnionRenderers\",\"id\":\"p1057\"},\"data\":{\"type\":\"map\",\"entries\":[[\"image\",[{\"type\":\"ndarray\",\"array\":{\"type\":\"bytes\",\"data\":\"AAAAgHwi7r8AAADgnabvvwAAAIBRfMM/AAAAgNH/778AAAAg8OzvPwAAAKDh/+8/AAAAQPJ77b8AAAAAve/zvwAAACDj2O+/AAAAIB7e778AAAAA3/ftvwAAAKCwNuo/AAAA4I9r7r8AAABA8bXtvwAAAIC0gA7AAAAAAHG90j8AAABg1v2yPwAAACDc/++/AAAAYCL9778AAABgdXTvvwAAAABGMe8/AAAA4GlM5L8AAAAg9/XzvwAAAGC7JNi/AAAAQARF7z8AAADAXojXvwAAACCGeO8/AAAAABov4j8AAACg2zDtvwAAACCSgg7AAAAAQFlM6r8AAABAp2jlPwAAACB5/e+/AAAAYCtD778AAABANAjuPwAAAMD48eS/AAAAIBgq7D8AAADg8vjzvwAAAGC0acY/AAAAQBY57T8AAABAVpLdvwAAAKAT/u8/AAAAYKcQ4j8AAADgcCLtvwAAAGBYnw7AAAAAQLgu4j8AAABAOyLvvwAAAACD8++/AAAAIHOD6r8AAADA5X7qPwAAAECw3u6/AAAAAISG678AAAAAajL0vwAAAGDkGOy/AAAAQOER7b8AAAAA5YruvwAAAKBebO8/AAAAoBeP4T8AAACgbQDtvwAAACCJrQ7AAAAAwHnU7T8AAABgMsztPwAAAOBP7e+/AAAAQIBp778AAACAhWzvvwAAAADusuU/AAAAIDkE5b8AAACART70vwAAAOBO6+u/AAAAIBui778AAABAa53tvwAAAEDxsdY/AAAAYJE94T8AAABgTOrrvwAAAIBirg7AAAAAgNWvyT8AAACADuXvPwAAAOA69eu/AAAA4D//6b8AAADgGeXvvwAAAGDtDek/AAAA4O0b4j8AAAAgc0H0vwAAAADlfem/AAAAIA6F7j8AAADgVRvvvwAAAEAW/+8/AAAAgIEz4T8AAADASOLrvwAAAGD2rg7AAAAAoAi+7j8AAADAY5foPwAAACCwk+a/AAAAIIiQ7z8AAABgomvvvwAAAECJque/AAAA4IOp7z8AAAAg9E70vwAAAMA95+4/AAAAoH6gqj8AAADgNx7vvwAAACCo++8/AAAAwNIU4T8AAADgReHrvwAAAEBftA7AAAAAYLgn778AAACgi9zvvwAAAOBL89I/AAAAoOni778AAACgG8PvPwAAAMDQA++/AAAAgAKq7r8AAABAGFX0vwAAAIA55u4/AAAAoG/m778AAADAB57uvwAAAGD2Q9o/AAAAABkM4T8AAACAAKTrvwAAAOBdtQ7AAAAAoPHP1b8AAADgc9/vPwAAAAC4s+6/AAAAIPpO7z8AAACg6/bvvwAAAGBQoO8/AAAAgO833z8AAAAgU170vwAAACC/G+m/AAAA4KSv7D8AAAAAeh/qPwAAAKBr/u8/AAAAgNVr4D8AAAAgxOL2PwAAAICZtQ7AAAAAAP+H6L8AAACgjhHsvwAAAIDy9u+/AAAAoPRX2j8AAAAgQ1jlvwAAACDaRu+/AAAAYMj/778AAACg4Wn0vwAAAIDxnhVAAAAAIFve5j8AAABAv93qvwAAAOBRed+/AAAAoOJh4D8AAABAHI33PwAAAIB/ug7AAAAAwBC+x78AAAAg9p/hPwAAAMDzte6/AAAAIMut7r8AAAAgCZD1PwAAACDxseE/AAAA4AsD0b8AAABA42f4vwAAAKColhZAAAAA4FLv1z8AAADgUAHNvwAAACApjO+/AAAA4Mdq4D8AAAAAyrf3PwAAACCRug7AAAAAYE/f6z8AAACgpYgLwAAAAAAWbvI/AAAAwO9G5r8AAABgeKMBQAAAAKAwrOE/AAAAYJXiAUAAAAAAveAAwAAAAGDolxZAAAAAwD9A1z8AAACAQZjSvwAAAMAMNe2/AAAAYNNS4D8AAADAlVn6PwAAAICuug7A\"},\"shape\":[12,15],\"dtype\":\"float64\",\"order\":\"little\"}]]]}}},\"view\":{\"type\":\"object\",\"name\":\"CDSView\",\"id\":\"p1068\",\"attributes\":{\"filter\":{\"type\":\"object\",\"name\":\"AllIndices\",\"id\":\"p1069\"}}},\"glyph\":{\"type\":\"object\",\"name\":\"Image\",\"id\":\"p1058\",\"attributes\":{\"x\":{\"type\":\"value\",\"value\":0},\"y\":{\"type\":\"value\",\"value\":0},\"dw\":{\"type\":\"value\",\"value\":15},\"dh\":{\"type\":\"value\",\"value\":12},\"image\":{\"type\":\"field\",\"field\":\"image\"},\"color_mapper\":{\"type\":\"object\",\"name\":\"LinearColorMapper\",\"id\":\"p1059\",\"attributes\":{\"palette\":[\"#000000\",\"#252525\",\"#525252\",\"#737373\",\"#969696\",\"#bdbdbd\",\"#d9d9d9\",\"#f0f0f0\",\"#ffffff\"]}}}},\"nonselection_glyph\":{\"type\":\"object\",\"name\":\"Image\",\"id\":\"p1061\",\"attributes\":{\"x\":{\"type\":\"value\",\"value\":0},\"y\":{\"type\":\"value\",\"value\":0},\"dw\":{\"type\":\"value\",\"value\":15},\"dh\":{\"type\":\"value\",\"value\":12},\"global_alpha\":{\"type\":\"value\",\"value\":0.1},\"image\":{\"type\":\"field\",\"field\":\"image\"},\"color_mapper\":{\"type\":\"object\",\"name\":\"LinearColorMapper\",\"id\":\"p1062\",\"attributes\":{\"palette\":[\"#000000\",\"#252525\",\"#525252\",\"#737373\",\"#969696\",\"#bdbdbd\",\"#d9d9d9\",\"#f0f0f0\",\"#ffffff\"]}}}},\"muted_glyph\":{\"type\":\"object\",\"name\":\"Image\",\"id\":\"p1064\",\"attributes\":{\"x\":{\"type\":\"value\",\"value\":0},\"y\":{\"type\":\"value\",\"value\":0},\"dw\":{\"type\":\"value\",\"value\":15},\"dh\":{\"type\":\"value\",\"value\":12},\"global_alpha\":{\"type\":\"value\",\"value\":0.2},\"image\":{\"type\":\"field\",\"field\":\"image\"},\"color_mapper\":{\"type\":\"object\",\"name\":\"LinearColorMapper\",\"id\":\"p1065\",\"attributes\":{\"palette\":[\"#000000\",\"#252525\",\"#525252\",\"#737373\",\"#969696\",\"#bdbdbd\",\"#d9d9d9\",\"#f0f0f0\",\"#ffffff\"]}}}}}}],\"toolbar\":{\"type\":\"object\",\"name\":\"Toolbar\",\"id\":\"p1050\"},\"left\":[{\"type\":\"object\",\"name\":\"LinearAxis\",\"id\":\"p1075\",\"attributes\":{\"ticker\":{\"type\":\"object\",\"name\":\"FixedTicker\",\"id\":\"p1079\",\"attributes\":{\"ticks\":{\"type\":\"ndarray\",\"array\":{\"type\":\"bytes\",\"data\":\"AAAAAAAA4D8AAAAAAAD4PwAAAAAAAARAAAAAAAAADEAAAAAAAAASQAAAAAAAABZAAAAAAAAAGkAAAAAAAAAeQAAAAAAAACFAAAAAAAAAI0AAAAAAAAAlQAAAAAAAACdA\"},\"shape\":[12],\"dtype\":\"float64\",\"order\":\"little\"},\"minor_ticks\":[]}},\"formatter\":{\"type\":\"object\",\"name\":\"BasicTickFormatter\",\"id\":\"p1077\"},\"axis_label\":\"translation tokens\",\"major_label_overrides\":{\"type\":\"map\",\"entries\":[[0.5,\"_EOS_\"],[1.5,\".\"],[2.5,\"lounge\"],[3.5,\"shared\"],[4.5,\"a\"],[5.5,\"and\"],[6.5,\"parking\"],[7.5,\"free\"],[8.5,\"offers\"],[9.5,\"property\"],[10.5,\"the\"],[11.5,\"_BOS_\"]]},\"major_label_policy\":{\"type\":\"object\",\"name\":\"AllLabels\",\"id\":\"p1078\"}}}],\"above\":[{\"type\":\"object\",\"name\":\"LinearAxis\",\"id\":\"p1070\",\"attributes\":{\"ticker\":{\"type\":\"object\",\"name\":\"FixedTicker\",\"id\":\"p1074\",\"attributes\":{\"ticks\":{\"type\":\"ndarray\",\"array\":{\"type\":\"bytes\",\"data\":\"AAAAAAAA4D8AAAAAAAD4PwAAAAAAAARAAAAAAAAADEAAAAAAAAASQAAAAAAAABZAAAAAAAAAGkAAAAAAAAAeQAAAAAAAACFAAAAAAAAAI0AAAAAAAAAlQAAAAAAAACdAAAAAAAAAKUAAAAAAAAArQAAAAAAAAC1A\"},\"shape\":[15],\"dtype\":\"float64\",\"order\":\"little\"},\"minor_ticks\":[]}},\"formatter\":{\"type\":\"object\",\"name\":\"BasicTickFormatter\",\"id\":\"p1072\"},\"axis_label\":\"source tokens\",\"major_label_orientation\":45,\"major_label_overrides\":{\"type\":\"map\",\"entries\":[[0.5,\"_BOS_\"],[1.5,\"\\u043a\\u0440\\u043e\\u043c\\u0435\"],[2.5,\"\\u0442\\u043e\\u0433\\u043e\"],[3.5,\",\"],[4.5,\"\\u043f\\u0440\\u0435\\u0434\\u043e\\u0441\\u0442\\u0430\\u0432\\u043b\\u044f\\u0435\\u0442\\u0441\\u044f\"],[5.5,\"\\u043f\\u0440\\u043e\\u043a\\u0430\\u0442\"],[6.5,\"\\u0432\\u0435\\u043b\\u043e\\u0441\\u0438\\u043f\\u0435\\u0434\\u043e\\u0432\"],[7.5,\",\"],[8.5,\"\\u0443\\u0441\\u043b\\u0443\\u0433\\u0438\"],[9.5,\"\\u0442\\u0440\\u0430\\u043d\\u0441\\u0444\\u0435\\u0440\\u0430\"],[10.5,\"\\u0438\"],[11.5,\"\\u0431\\u0435\\u0441\\u043f\\u043b\\u0430\\u0442\\u043d\\u0430\\u044f\"],[12.5,\"\\u043f\\u0430\\u0440\\u043a\\u043e\\u0432\\u043a\\u0430\"],[13.5,\".\"],[14.5,\"_EOS_\"]]},\"major_label_policy\":{\"type\":\"object\",\"name\":\"AllLabels\",\"id\":\"p1073\"}}}]}}]}};\n",
              "  const render_items = [{\"docid\":\"f0e04d24-4c40-4669-a208-307ea8bfa2c9\",\"roots\":{\"p1042\":\"a12b181c-6af6-4666-8246-07c7b43036ed\"},\"root_ids\":[\"p1042\"]}];\n",
              "  root.Bokeh.embed.embed_items_notebook(docs_json, render_items);\n",
              "  }\n",
              "  if (root.Bokeh !== undefined) {\n",
              "    embed_document(root);\n",
              "  } else {\n",
              "    let attempts = 0;\n",
              "    const timer = setInterval(function(root) {\n",
              "      if (root.Bokeh !== undefined) {\n",
              "        clearInterval(timer);\n",
              "        embed_document(root);\n",
              "      } else {\n",
              "        attempts++;\n",
              "        if (attempts > 100) {\n",
              "          clearInterval(timer);\n",
              "          console.log(\"Bokeh: ERROR: Unable to run BokehJS code because BokehJS library is missing\");\n",
              "        }\n",
              "      }\n",
              "    }, 10, root)\n",
              "  }\n",
              "})(window);"
            ],
            "application/vnd.bokehjs_exec.v0+json": ""
          },
          "metadata": {
            "application/vnd.bokehjs_exec.v0+json": {
              "id": "p1042"
            }
          }
        },
        {
          "output_type": "display_data",
          "data": {
            "text/html": [
              "\n",
              "  <div id=\"ba193eaa-5ef1-4dfc-a5c1-e283a313f1b3\" data-root-id=\"p1083\" style=\"display: contents;\"></div>\n"
            ]
          },
          "metadata": {}
        },
        {
          "output_type": "display_data",
          "data": {
            "application/javascript": [
              "(function(root) {\n",
              "  function embed_document(root) {\n",
              "  const docs_json = {\"02ac0c95-9540-4411-bb9f-654b236d3eb0\":{\"version\":\"3.3.4\",\"title\":\"Bokeh Application\",\"roots\":[{\"type\":\"object\",\"name\":\"Figure\",\"id\":\"p1083\",\"attributes\":{\"x_range\":{\"type\":\"object\",\"name\":\"Range1d\",\"id\":\"p1092\",\"attributes\":{\"end\":13}},\"y_range\":{\"type\":\"object\",\"name\":\"Range1d\",\"id\":\"p1093\",\"attributes\":{\"end\":20}},\"x_scale\":{\"type\":\"object\",\"name\":\"LinearScale\",\"id\":\"p1094\"},\"y_scale\":{\"type\":\"object\",\"name\":\"LinearScale\",\"id\":\"p1095\"},\"title\":{\"type\":\"object\",\"name\":\"Title\",\"id\":\"p1090\"},\"renderers\":[{\"type\":\"object\",\"name\":\"GlyphRenderer\",\"id\":\"p1108\",\"attributes\":{\"data_source\":{\"type\":\"object\",\"name\":\"ColumnDataSource\",\"id\":\"p1096\",\"attributes\":{\"selected\":{\"type\":\"object\",\"name\":\"Selection\",\"id\":\"p1097\",\"attributes\":{\"indices\":[],\"line_indices\":[]}},\"selection_policy\":{\"type\":\"object\",\"name\":\"UnionRenderers\",\"id\":\"p1098\"},\"data\":{\"type\":\"map\",\"entries\":[[\"image\",[{\"type\":\"ndarray\",\"array\":{\"type\":\"bytes\",\"data\":\"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\"},\"shape\":[20,13],\"dtype\":\"float64\",\"order\":\"little\"}]]]}}},\"view\":{\"type\":\"object\",\"name\":\"CDSView\",\"id\":\"p1109\",\"attributes\":{\"filter\":{\"type\":\"object\",\"name\":\"AllIndices\",\"id\":\"p1110\"}}},\"glyph\":{\"type\":\"object\",\"name\":\"Image\",\"id\":\"p1099\",\"attributes\":{\"x\":{\"type\":\"value\",\"value\":0},\"y\":{\"type\":\"value\",\"value\":0},\"dw\":{\"type\":\"value\",\"value\":13},\"dh\":{\"type\":\"value\",\"value\":20},\"image\":{\"type\":\"field\",\"field\":\"image\"},\"color_mapper\":{\"type\":\"object\",\"name\":\"LinearColorMapper\",\"id\":\"p1100\",\"attributes\":{\"palette\":[\"#000000\",\"#252525\",\"#525252\",\"#737373\",\"#969696\",\"#bdbdbd\",\"#d9d9d9\",\"#f0f0f0\",\"#ffffff\"]}}}},\"nonselection_glyph\":{\"type\":\"object\",\"name\":\"Image\",\"id\":\"p1102\",\"attributes\":{\"x\":{\"type\":\"value\",\"value\":0},\"y\":{\"type\":\"value\",\"value\":0},\"dw\":{\"type\":\"value\",\"value\":13},\"dh\":{\"type\":\"value\",\"value\":20},\"global_alpha\":{\"type\":\"value\",\"value\":0.1},\"image\":{\"type\":\"field\",\"field\":\"image\"},\"color_mapper\":{\"type\":\"object\",\"name\":\"LinearColorMapper\",\"id\":\"p1103\",\"attributes\":{\"palette\":[\"#000000\",\"#252525\",\"#525252\",\"#737373\",\"#969696\",\"#bdbdbd\",\"#d9d9d9\",\"#f0f0f0\",\"#ffffff\"]}}}},\"muted_glyph\":{\"type\":\"object\",\"name\":\"Image\",\"id\":\"p1105\",\"attributes\":{\"x\":{\"type\":\"value\",\"value\":0},\"y\":{\"type\":\"value\",\"value\":0},\"dw\":{\"type\":\"value\",\"value\":13},\"dh\":{\"type\":\"value\",\"value\":20},\"global_alpha\":{\"type\":\"value\",\"value\":0.2},\"image\":{\"type\":\"field\",\"field\":\"image\"},\"color_mapper\":{\"type\":\"object\",\"name\":\"LinearColorMapper\",\"id\":\"p1106\",\"attributes\":{\"palette\":[\"#000000\",\"#252525\",\"#525252\",\"#737373\",\"#969696\",\"#bdbdbd\",\"#d9d9d9\",\"#f0f0f0\",\"#ffffff\"]}}}}}}],\"toolbar\":{\"type\":\"object\",\"name\":\"Toolbar\",\"id\":\"p1091\"},\"left\":[{\"type\":\"object\",\"name\":\"LinearAxis\",\"id\":\"p1116\",\"attributes\":{\"ticker\":{\"type\":\"object\",\"name\":\"FixedTicker\",\"id\":\"p1120\",\"attributes\":{\"ticks\":{\"type\":\"ndarray\",\"array\":{\"type\":\"bytes\",\"data\":\"AAAAAAAA4D8AAAAAAAD4PwAAAAAAAARAAAAAAAAADEAAAAAAAAASQAAAAAAAABZAAAAAAAAAGkAAAAAAAAAeQAAAAAAAACFAAAAAAAAAI0AAAAAAAAAlQAAAAAAAACdAAAAAAAAAKUAAAAAAAAArQAAAAAAAAC1AAAAAAAAAL0AAAAAAAIAwQAAAAAAAgDFAAAAAAACAMkAAAAAAAIAzQA==\"},\"shape\":[20],\"dtype\":\"float64\",\"order\":\"little\"},\"minor_ticks\":[]}},\"formatter\":{\"type\":\"object\",\"name\":\"BasicTickFormatter\",\"id\":\"p1118\"},\"axis_label\":\"translation tokens\",\"major_label_overrides\":{\"type\":\"map\",\"entries\":[[0.5,\"_EOS_\"],[1.5,\".\"],[2.5,\"property\"],[3.5,\"the\"],[4.5,\"of\"],[5.5,\"distance\"],[6.5,\"the\"],[7.5,\"in\"],[8.5,\"located\"],[9.5,\"is\"],[10.5,\"airport\"],[11.5,\"nearest\"],[12.5,\"the\"],[13.5,\"in\"],[14.5,\"located\"],[15.5,\"is\"],[16.5,\"airport\"],[17.5,\"nearest\"],[18.5,\"the\"],[19.5,\"_BOS_\"]]},\"major_label_policy\":{\"type\":\"object\",\"name\":\"AllLabels\",\"id\":\"p1119\"}}}],\"above\":[{\"type\":\"object\",\"name\":\"LinearAxis\",\"id\":\"p1111\",\"attributes\":{\"ticker\":{\"type\":\"object\",\"name\":\"FixedTicker\",\"id\":\"p1115\",\"attributes\":{\"ticks\":{\"type\":\"ndarray\",\"array\":{\"type\":\"bytes\",\"data\":\"AAAAAAAA4D8AAAAAAAD4PwAAAAAAAARAAAAAAAAADEAAAAAAAAASQAAAAAAAABZAAAAAAAAAGkAAAAAAAAAeQAAAAAAAACFAAAAAAAAAI0AAAAAAAAAlQAAAAAAAACdAAAAAAAAAKUA=\"},\"shape\":[13],\"dtype\":\"float64\",\"order\":\"little\"},\"minor_ticks\":[]}},\"formatter\":{\"type\":\"object\",\"name\":\"BasicTickFormatter\",\"id\":\"p1113\"},\"axis_label\":\"source tokens\",\"major_label_orientation\":45,\"major_label_overrides\":{\"type\":\"map\",\"entries\":[[0.5,\"_BOS_\"],[1.5,\"\\u0440\\u0430\\u0441\\u0441\\u0442\\u043e\\u044f\\u043d\\u0438\\u0435\"],[2.5,\"\\u0434\\u043e\"],[3.5,\"\\u0433\\u043e\\u0440\\u043e\\u0434\\u0430\"],[4.5,\"\\u043a\\u0438@@\"],[5.5,\"\\u0441\\u0441\\u0438@@\"],[6.5,\"\\u043c@@\"],[7.5,\"\\u043c\\u0438\"],[8.5,\"\\u0441\\u043e\\u0441\\u0442\\u0430\\u0432\\u043b\\u044f\\u0435\\u0442\"],[9.5,\"26\"],[10.5,\"\\u043a\\u043c\"],[11.5,\".\"],[12.5,\"_EOS_\"]]},\"major_label_policy\":{\"type\":\"object\",\"name\":\"AllLabels\",\"id\":\"p1114\"}}}]}}]}};\n",
              "  const render_items = [{\"docid\":\"02ac0c95-9540-4411-bb9f-654b236d3eb0\",\"roots\":{\"p1083\":\"ba193eaa-5ef1-4dfc-a5c1-e283a313f1b3\"},\"root_ids\":[\"p1083\"]}];\n",
              "  root.Bokeh.embed.embed_items_notebook(docs_json, render_items);\n",
              "  }\n",
              "  if (root.Bokeh !== undefined) {\n",
              "    embed_document(root);\n",
              "  } else {\n",
              "    let attempts = 0;\n",
              "    const timer = setInterval(function(root) {\n",
              "      if (root.Bokeh !== undefined) {\n",
              "        clearInterval(timer);\n",
              "        embed_document(root);\n",
              "      } else {\n",
              "        attempts++;\n",
              "        if (attempts > 100) {\n",
              "          clearInterval(timer);\n",
              "          console.log(\"Bokeh: ERROR: Unable to run BokehJS code because BokehJS library is missing\");\n",
              "        }\n",
              "      }\n",
              "    }, 10, root)\n",
              "  }\n",
              "})(window);"
            ],
            "application/vnd.bokehjs_exec.v0+json": ""
          },
          "metadata": {
            "application/vnd.bokehjs_exec.v0+json": {
              "id": "p1083"
            }
          }
        },
        {
          "output_type": "display_data",
          "data": {
            "text/html": [
              "\n",
              "  <div id=\"b2525edd-053d-4d38-8c9d-d7541e344eba\" data-root-id=\"p1124\" style=\"display: contents;\"></div>\n"
            ]
          },
          "metadata": {}
        },
        {
          "output_type": "display_data",
          "data": {
            "application/javascript": [
              "(function(root) {\n",
              "  function embed_document(root) {\n",
              "  const docs_json = {\"7af2a192-d8e1-43f8-8170-b0666be88c21\":{\"version\":\"3.3.4\",\"title\":\"Bokeh Application\",\"roots\":[{\"type\":\"object\",\"name\":\"Figure\",\"id\":\"p1124\",\"attributes\":{\"x_range\":{\"type\":\"object\",\"name\":\"Range1d\",\"id\":\"p1133\",\"attributes\":{\"end\":32}},\"y_range\":{\"type\":\"object\",\"name\":\"Range1d\",\"id\":\"p1134\",\"attributes\":{\"end\":31}},\"x_scale\":{\"type\":\"object\",\"name\":\"LinearScale\",\"id\":\"p1135\"},\"y_scale\":{\"type\":\"object\",\"name\":\"LinearScale\",\"id\":\"p1136\"},\"title\":{\"type\":\"object\",\"name\":\"Title\",\"id\":\"p1131\"},\"renderers\":[{\"type\":\"object\",\"name\":\"GlyphRenderer\",\"id\":\"p1149\",\"attributes\":{\"data_source\":{\"type\":\"object\",\"name\":\"ColumnDataSource\",\"id\":\"p1137\",\"attributes\":{\"selected\":{\"type\":\"object\",\"name\":\"Selection\",\"id\":\"p1138\",\"attributes\":{\"indices\":[],\"line_indices\":[]}},\"selection_policy\":{\"type\":\"object\",\"name\":\"UnionRenderers\",\"id\":\"p1139\"},\"data\":{\"type\":\"map\",\"entries\":[[\"image\",[{\"type\":\"ndarray\",\"array\":{\"type\":\"bytes\",\"data\":\"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\"},\"shape\":[31,32],\"dtype\":\"float64\",\"order\":\"little\"}]]]}}},\"view\":{\"type\":\"object\",\"name\":\"CDSView\",\"id\":\"p1150\",\"attributes\":{\"filter\":{\"type\":\"object\",\"name\":\"AllIndices\",\"id\":\"p1151\"}}},\"glyph\":{\"type\":\"object\",\"name\":\"Image\",\"id\":\"p1140\",\"attributes\":{\"x\":{\"type\":\"value\",\"value\":0},\"y\":{\"type\":\"value\",\"value\":0},\"dw\":{\"type\":\"value\",\"value\":32},\"dh\":{\"type\":\"value\",\"value\":31},\"image\":{\"type\":\"field\",\"field\":\"image\"},\"color_mapper\":{\"type\":\"object\",\"name\":\"LinearColorMapper\",\"id\":\"p1141\",\"attributes\":{\"palette\":[\"#000000\",\"#252525\",\"#525252\",\"#737373\",\"#969696\",\"#bdbdbd\",\"#d9d9d9\",\"#f0f0f0\",\"#ffffff\"]}}}},\"nonselection_glyph\":{\"type\":\"object\",\"name\":\"Image\",\"id\":\"p1143\",\"attributes\":{\"x\":{\"type\":\"value\",\"value\":0},\"y\":{\"type\":\"value\",\"value\":0},\"dw\":{\"type\":\"value\",\"value\":32},\"dh\":{\"type\":\"value\",\"value\":31},\"global_alpha\":{\"type\":\"value\",\"value\":0.1},\"image\":{\"type\":\"field\",\"field\":\"image\"},\"color_mapper\":{\"type\":\"object\",\"name\":\"LinearColorMapper\",\"id\":\"p1144\",\"attributes\":{\"palette\":[\"#000000\",\"#252525\",\"#525252\",\"#737373\",\"#969696\",\"#bdbdbd\",\"#d9d9d9\",\"#f0f0f0\",\"#ffffff\"]}}}},\"muted_glyph\":{\"type\":\"object\",\"name\":\"Image\",\"id\":\"p1146\",\"attributes\":{\"x\":{\"type\":\"value\",\"value\":0},\"y\":{\"type\":\"value\",\"value\":0},\"dw\":{\"type\":\"value\",\"value\":32},\"dh\":{\"type\":\"value\",\"value\":31},\"global_alpha\":{\"type\":\"value\",\"value\":0.2},\"image\":{\"type\":\"field\",\"field\":\"image\"},\"color_mapper\":{\"type\":\"object\",\"name\":\"LinearColorMapper\",\"id\":\"p1147\",\"attributes\":{\"palette\":[\"#000000\",\"#252525\",\"#525252\",\"#737373\",\"#969696\",\"#bdbdbd\",\"#d9d9d9\",\"#f0f0f0\",\"#ffffff\"]}}}}}}],\"toolbar\":{\"type\":\"object\",\"name\":\"Toolbar\",\"id\":\"p1132\"},\"left\":[{\"type\":\"object\",\"name\":\"LinearAxis\",\"id\":\"p1157\",\"attributes\":{\"ticker\":{\"type\":\"object\",\"name\":\"FixedTicker\",\"id\":\"p1161\",\"attributes\":{\"ticks\":{\"type\":\"ndarray\",\"array\":{\"type\":\"bytes\",\"data\":\"AAAAAAAA4D8AAAAAAAD4PwAAAAAAAARAAAAAAAAADEAAAAAAAAASQAAAAAAAABZAAAAAAAAAGkAAAAAAAAAeQAAAAAAAACFAAAAAAAAAI0AAAAAAAAAlQAAAAAAAACdAAAAAAAAAKUAAAAAAAAArQAAAAAAAAC1AAAAAAAAAL0AAAAAAAIAwQAAAAAAAgDFAAAAAAACAMkAAAAAAAIAzQAAAAAAAgDRAAAAAAACANUAAAAAAAIA2QAAAAAAAgDdAAAAAAACAOEAAAAAAAIA5QAAAAAAAgDpAAAAAAACAO0AAAAAAAIA8QAAAAAAAgD1AAAAAAACAPkA=\"},\"shape\":[31],\"dtype\":\"float64\",\"order\":\"little\"},\"minor_ticks\":[]}},\"formatter\":{\"type\":\"object\",\"name\":\"BasicTickFormatter\",\"id\":\"p1159\"},\"axis_label\":\"translation tokens\",\"major_label_overrides\":{\"type\":\"map\",\"entries\":[[0.5,\"_EOS_\"],[1.5,\".\"],[2.5,\"terrace\"],[3.5,\"a\"],[4.5,\"and\"],[5.5,\"terrace\"],[6.5,\"a\"],[7.5,\",\"],[8.5,\"garden\"],[9.5,\"a\"],[10.5,\"with\"],[11.5,\"terrace\"],[12.5,\"a\"],[13.5,\"and\"],[14.5,\"garden\"],[15.5,\"a\"],[16.5,\",\"],[17.5,\"garden\"],[18.5,\"a\"],[19.5,\"features\"],[20.5,\"apartment\"],[21.5,\"this\"],[22.5,\",\"],[23.5,\"city\"],[24.5,\"the\"],[25.5,\"of\"],[26.5,\"centre\"],[27.5,\"the\"],[28.5,\"in\"],[29.5,\"located\"],[30.5,\"_BOS_\"]]},\"major_label_policy\":{\"type\":\"object\",\"name\":\"AllLabels\",\"id\":\"p1160\"}}}],\"above\":[{\"type\":\"object\",\"name\":\"LinearAxis\",\"id\":\"p1152\",\"attributes\":{\"ticker\":{\"type\":\"object\",\"name\":\"FixedTicker\",\"id\":\"p1156\",\"attributes\":{\"ticks\":{\"type\":\"ndarray\",\"array\":{\"type\":\"bytes\",\"data\":\"AAAAAAAA4D8AAAAAAAD4PwAAAAAAAARAAAAAAAAADEAAAAAAAAASQAAAAAAAABZAAAAAAAAAGkAAAAAAAAAeQAAAAAAAACFAAAAAAAAAI0AAAAAAAAAlQAAAAAAAACdAAAAAAAAAKUAAAAAAAAArQAAAAAAAAC1AAAAAAAAAL0AAAAAAAIAwQAAAAAAAgDFAAAAAAACAMkAAAAAAAIAzQAAAAAAAgDRAAAAAAACANUAAAAAAAIA2QAAAAAAAgDdAAAAAAACAOEAAAAAAAIA5QAAAAAAAgDpAAAAAAACAO0AAAAAAAIA8QAAAAAAAgD1AAAAAAACAPkAAAAAAAIA/QA==\"},\"shape\":[32],\"dtype\":\"float64\",\"order\":\"little\"},\"minor_ticks\":[]}},\"formatter\":{\"type\":\"object\",\"name\":\"BasicTickFormatter\",\"id\":\"p1154\"},\"axis_label\":\"source tokens\",\"major_label_orientation\":45,\"major_label_overrides\":{\"type\":\"map\",\"entries\":[[0.5,\"_BOS_\"],[1.5,\"\\u0430\\u043f\\u0430\\u0440\\u0442\\u0430\\u043c\\u0435\\u043d\\u0442\\u044b\"],[2.5,\"\\u0432\"],[3.5,\"\\u043f\\u0435\\u043d\\u0442@@\"],[4.5,\"\\u0445\\u0430\\u0443\\u0441\\u0435\"],[5.5,\"\\u0441\"],[6.5,\"\\u043e\\u0431\\u0449\\u0438\\u043c\"],[7.5,\"\\u043e\\u0442\\u043a\\u0440\\u044b\\u0442\\u044b\\u043c\"],[8.5,\"\\u0431\\u0430\\u0441\\u0441\\u0435\\u0439\\u043d\\u043e\\u043c\"],[9.5,\",\"],[10.5,\"\\u0441\\u0430\\u0434\\u043e\\u043c\"],[11.5,\",\"],[12.5,\"\\u043a\\u043e\\u043d\\u0434\\u0438\\u0446\\u0438\\u043e\\u043d\\u0435\\u0440\\u043e\\u043c\"],[13.5,\"\\u0438\"],[14.5,\"\\u0442\\u0435\\u0440\\u0440\\u0430\\u0441\\u043e\\u0439\"],[15.5,\"\\u0434\\u043b\\u044f\"],[16.5,\"\\u0437\\u0430\\u0433\\u0430\\u0440\\u0430\"],[17.5,\"\\u0440\\u0430\\u0441\\u043f\\u043e\\u043b\\u043e\\u0436\\u0435\\u043d\\u044b\"],[18.5,\"\\u0432\"],[19.5,\"5\"],[20.5,\"\\u043c\\u0438\\u043d\\u0443\\u0442\\u0430\\u0445\"],[21.5,\"\\u0445\\u043e\\u0434\\u044c\\u0431\\u044b\"],[22.5,\"\\u043e\\u0442\"],[23.5,\"\\u043f\\u043b\\u044f\\u0436\\u0430\"],[24.5,\"\\u043d\\u0430\"],[25.5,\"\\u043a\\u0443\\u0440\\u043e\\u0440\\u0442\\u0435\"],[26.5,\"\\u043a\\u0430@@\"],[27.5,\"\\u0431\\u043e\"],[28.5,\"-\"],[29.5,\"\\u0440\\u043e\\u0439\"],[30.5,\".\"],[31.5,\"_EOS_\"]]},\"major_label_policy\":{\"type\":\"object\",\"name\":\"AllLabels\",\"id\":\"p1155\"}}}]}}]}};\n",
              "  const render_items = [{\"docid\":\"7af2a192-d8e1-43f8-8170-b0666be88c21\",\"roots\":{\"p1124\":\"b2525edd-053d-4d38-8c9d-d7541e344eba\"},\"root_ids\":[\"p1124\"]}];\n",
              "  root.Bokeh.embed.embed_items_notebook(docs_json, render_items);\n",
              "  }\n",
              "  if (root.Bokeh !== undefined) {\n",
              "    embed_document(root);\n",
              "  } else {\n",
              "    let attempts = 0;\n",
              "    const timer = setInterval(function(root) {\n",
              "      if (root.Bokeh !== undefined) {\n",
              "        clearInterval(timer);\n",
              "        embed_document(root);\n",
              "      } else {\n",
              "        attempts++;\n",
              "        if (attempts > 100) {\n",
              "          clearInterval(timer);\n",
              "          console.log(\"Bokeh: ERROR: Unable to run BokehJS code because BokehJS library is missing\");\n",
              "        }\n",
              "      }\n",
              "    }, 10, root)\n",
              "  }\n",
              "})(window);"
            ],
            "application/vnd.bokehjs_exec.v0+json": ""
          },
          "metadata": {
            "application/vnd.bokehjs_exec.v0+json": {
              "id": "p1124"
            }
          }
        },
        {
          "output_type": "display_data",
          "data": {
            "text/html": [
              "\n",
              "  <div id=\"f816470f-a758-444f-9e7a-44f2aa4dfe2e\" data-root-id=\"p1165\" style=\"display: contents;\"></div>\n"
            ]
          },
          "metadata": {}
        },
        {
          "output_type": "display_data",
          "data": {
            "application/javascript": [
              "(function(root) {\n",
              "  function embed_document(root) {\n",
              "  const docs_json = {\"a8cbb901-9608-4f8a-8e74-7038a6107c29\":{\"version\":\"3.3.4\",\"title\":\"Bokeh Application\",\"roots\":[{\"type\":\"object\",\"name\":\"Figure\",\"id\":\"p1165\",\"attributes\":{\"x_range\":{\"type\":\"object\",\"name\":\"Range1d\",\"id\":\"p1174\",\"attributes\":{\"end\":23}},\"y_range\":{\"type\":\"object\",\"name\":\"Range1d\",\"id\":\"p1175\",\"attributes\":{\"end\":15}},\"x_scale\":{\"type\":\"object\",\"name\":\"LinearScale\",\"id\":\"p1176\"},\"y_scale\":{\"type\":\"object\",\"name\":\"LinearScale\",\"id\":\"p1177\"},\"title\":{\"type\":\"object\",\"name\":\"Title\",\"id\":\"p1172\"},\"renderers\":[{\"type\":\"object\",\"name\":\"GlyphRenderer\",\"id\":\"p1190\",\"attributes\":{\"data_source\":{\"type\":\"object\",\"name\":\"ColumnDataSource\",\"id\":\"p1178\",\"attributes\":{\"selected\":{\"type\":\"object\",\"name\":\"Selection\",\"id\":\"p1179\",\"attributes\":{\"indices\":[],\"line_indices\":[]}},\"selection_policy\":{\"type\":\"object\",\"name\":\"UnionRenderers\",\"id\":\"p1180\"},\"data\":{\"type\":\"map\",\"entries\":[[\"image\",[{\"type\":\"ndarray\",\"array\":{\"type\":\"bytes\",\"data\":\"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\"},\"shape\":[15,23],\"dtype\":\"float64\",\"order\":\"little\"}]]]}}},\"view\":{\"type\":\"object\",\"name\":\"CDSView\",\"id\":\"p1191\",\"attributes\":{\"filter\":{\"type\":\"object\",\"name\":\"AllIndices\",\"id\":\"p1192\"}}},\"glyph\":{\"type\":\"object\",\"name\":\"Image\",\"id\":\"p1181\",\"attributes\":{\"x\":{\"type\":\"value\",\"value\":0},\"y\":{\"type\":\"value\",\"value\":0},\"dw\":{\"type\":\"value\",\"value\":23},\"dh\":{\"type\":\"value\",\"value\":15},\"image\":{\"type\":\"field\",\"field\":\"image\"},\"color_mapper\":{\"type\":\"object\",\"name\":\"LinearColorMapper\",\"id\":\"p1182\",\"attributes\":{\"palette\":[\"#000000\",\"#252525\",\"#525252\",\"#737373\",\"#969696\",\"#bdbdbd\",\"#d9d9d9\",\"#f0f0f0\",\"#ffffff\"]}}}},\"nonselection_glyph\":{\"type\":\"object\",\"name\":\"Image\",\"id\":\"p1184\",\"attributes\":{\"x\":{\"type\":\"value\",\"value\":0},\"y\":{\"type\":\"value\",\"value\":0},\"dw\":{\"type\":\"value\",\"value\":23},\"dh\":{\"type\":\"value\",\"value\":15},\"global_alpha\":{\"type\":\"value\",\"value\":0.1},\"image\":{\"type\":\"field\",\"field\":\"image\"},\"color_mapper\":{\"type\":\"object\",\"name\":\"LinearColorMapper\",\"id\":\"p1185\",\"attributes\":{\"palette\":[\"#000000\",\"#252525\",\"#525252\",\"#737373\",\"#969696\",\"#bdbdbd\",\"#d9d9d9\",\"#f0f0f0\",\"#ffffff\"]}}}},\"muted_glyph\":{\"type\":\"object\",\"name\":\"Image\",\"id\":\"p1187\",\"attributes\":{\"x\":{\"type\":\"value\",\"value\":0},\"y\":{\"type\":\"value\",\"value\":0},\"dw\":{\"type\":\"value\",\"value\":23},\"dh\":{\"type\":\"value\",\"value\":15},\"global_alpha\":{\"type\":\"value\",\"value\":0.2},\"image\":{\"type\":\"field\",\"field\":\"image\"},\"color_mapper\":{\"type\":\"object\",\"name\":\"LinearColorMapper\",\"id\":\"p1188\",\"attributes\":{\"palette\":[\"#000000\",\"#252525\",\"#525252\",\"#737373\",\"#969696\",\"#bdbdbd\",\"#d9d9d9\",\"#f0f0f0\",\"#ffffff\"]}}}}}}],\"toolbar\":{\"type\":\"object\",\"name\":\"Toolbar\",\"id\":\"p1173\"},\"left\":[{\"type\":\"object\",\"name\":\"LinearAxis\",\"id\":\"p1198\",\"attributes\":{\"ticker\":{\"type\":\"object\",\"name\":\"FixedTicker\",\"id\":\"p1202\",\"attributes\":{\"ticks\":{\"type\":\"ndarray\",\"array\":{\"type\":\"bytes\",\"data\":\"AAAAAAAA4D8AAAAAAAD4PwAAAAAAAARAAAAAAAAADEAAAAAAAAASQAAAAAAAABZAAAAAAAAAGkAAAAAAAAAeQAAAAAAAACFAAAAAAAAAI0AAAAAAAAAlQAAAAAAAACdAAAAAAAAAKUAAAAAAAAArQAAAAAAAAC1A\"},\"shape\":[15],\"dtype\":\"float64\",\"order\":\"little\"},\"minor_ticks\":[]}},\"formatter\":{\"type\":\"object\",\"name\":\"BasicTickFormatter\",\"id\":\"p1200\"},\"axis_label\":\"translation tokens\",\"major_label_overrides\":{\"type\":\"map\",\"entries\":[[0.5,\"_EOS_\"],[1.5,\".\"],[2.5,\"property\"],[3.5,\"the\"],[4.5,\"of\"],[5.5,\"centre\"],[6.5,\"the\"],[7.5,\"in\"],[8.5,\"located\"],[9.5,\"is\"],[10.5,\"beach\"],[11.5,\"the\"],[12.5,\"on\"],[13.5,\"apartment\"],[14.5,\"_BOS_\"]]},\"major_label_policy\":{\"type\":\"object\",\"name\":\"AllLabels\",\"id\":\"p1201\"}}}],\"above\":[{\"type\":\"object\",\"name\":\"LinearAxis\",\"id\":\"p1193\",\"attributes\":{\"ticker\":{\"type\":\"object\",\"name\":\"FixedTicker\",\"id\":\"p1197\",\"attributes\":{\"ticks\":{\"type\":\"ndarray\",\"array\":{\"type\":\"bytes\",\"data\":\"AAAAAAAA4D8AAAAAAAD4PwAAAAAAAARAAAAAAAAADEAAAAAAAAASQAAAAAAAABZAAAAAAAAAGkAAAAAAAAAeQAAAAAAAACFAAAAAAAAAI0AAAAAAAAAlQAAAAAAAACdAAAAAAAAAKUAAAAAAAAArQAAAAAAAAC1AAAAAAAAAL0AAAAAAAIAwQAAAAAAAgDFAAAAAAACAMkAAAAAAAIAzQAAAAAAAgDRAAAAAAACANUAAAAAAAIA2QA==\"},\"shape\":[23],\"dtype\":\"float64\",\"order\":\"little\"},\"minor_ticks\":[]}},\"formatter\":{\"type\":\"object\",\"name\":\"BasicTickFormatter\",\"id\":\"p1195\"},\"axis_label\":\"source tokens\",\"major_label_orientation\":45,\"major_label_overrides\":{\"type\":\"map\",\"entries\":[[0.5,\"_BOS_\"],[1.5,\"\\u0430\\u043f\\u0430\\u0440\\u0442\\u0430\\u043c\\u0435\\u043d\\u0442\\u044b\"],[2.5,\"mo@@\"],[3.5,\"s@@\"],[4.5,\"co@@\"],[5.5,\"w\"],[6.5,\"point\"],[7.5,\"-\"],[8.5,\"loft\"],[9.5,\"red\"],[10.5,\"square\"],[11.5,\"\\u043d\\u0430\\u0445\\u043e\\u0434\\u044f\\u0442\\u0441\\u044f\"],[12.5,\"\\u0432\"],[13.5,\"\\u043c\\u043e\\u0441\\u043a\\u0432\\u0435\"],[14.5,\",\"],[15.5,\"\\u0432\"],[16.5,\"200\"],[17.5,\"\\u043c\\u0435\\u0442\\u0440\\u0430\\u0445\"],[18.5,\"\\u043e\\u0442\"],[19.5,\"\\u0431\\u043e\\u043b\\u044c\\u0448\\u043e\\u0433\\u043e\"],[20.5,\"\\u0442\\u0435\\u0430\\u0442\\u0440\\u0430\"],[21.5,\".\"],[22.5,\"_EOS_\"]]},\"major_label_policy\":{\"type\":\"object\",\"name\":\"AllLabels\",\"id\":\"p1196\"}}}]}}]}};\n",
              "  const render_items = [{\"docid\":\"a8cbb901-9608-4f8a-8e74-7038a6107c29\",\"roots\":{\"p1165\":\"f816470f-a758-444f-9e7a-44f2aa4dfe2e\"},\"root_ids\":[\"p1165\"]}];\n",
              "  root.Bokeh.embed.embed_items_notebook(docs_json, render_items);\n",
              "  }\n",
              "  if (root.Bokeh !== undefined) {\n",
              "    embed_document(root);\n",
              "  } else {\n",
              "    let attempts = 0;\n",
              "    const timer = setInterval(function(root) {\n",
              "      if (root.Bokeh !== undefined) {\n",
              "        clearInterval(timer);\n",
              "        embed_document(root);\n",
              "      } else {\n",
              "        attempts++;\n",
              "        if (attempts > 100) {\n",
              "          clearInterval(timer);\n",
              "          console.log(\"Bokeh: ERROR: Unable to run BokehJS code because BokehJS library is missing\");\n",
              "        }\n",
              "      }\n",
              "    }, 10, root)\n",
              "  }\n",
              "})(window);"
            ],
            "application/vnd.bokehjs_exec.v0+json": ""
          },
          "metadata": {
            "application/vnd.bokehjs_exec.v0+json": {
              "id": "p1165"
            }
          }
        }
      ],
      "source": [
        "for i in range(5):\n",
        "    draw_attention(inp[i], trans[i], attention_probs[i])\n",
        "\n",
        "# Does it look fine already? don't forget to save images for anytask!"
      ]
    },
    {
      "cell_type": "markdown",
      "metadata": {
        "id": "BLL20tz5FWAI"
      },
      "source": [
        "__Note 1:__ If the attention maps are not iterpretable, try starting encoder from zeros (instead of dec_start), forcing model to use attention.\n",
        "\n",
        "__Note 2:__ If you're studying this course as a YSDA student, please submit __attention screenshots__ alongside your notebook."
      ]
    },
    {
      "cell_type": "markdown",
      "metadata": {
        "id": "pbIIngNVlrtt"
      },
      "source": [
        "## Goind deeper (2++ points each)\n",
        "\n",
        "We want you to find the best model for the task. Use everything you know.\n",
        "\n",
        "* different recurrent units: rnn/gru/lstm; deeper architectures\n",
        "* bidirectional encoder, different attention methods for decoder (additive, dot-product, multi-head)\n",
        "* word dropout, training schedules, anything you can imagine\n",
        "* replace greedy inference with beam search\n",
        "\n",
        "For a better grasp of seq2seq We recommend you to conduct at least one experiment from one of the bullet-points or your alternative ideas. As usual, describe what you tried and what results you obtained in a short report."
      ]
    },
    {
      "cell_type": "code",
      "source": [],
      "metadata": {
        "id": "VjoTzliLs2-b"
      },
      "execution_count": null,
      "outputs": []
    },
    {
      "cell_type": "code",
      "source": [],
      "metadata": {
        "id": "kjz6Noqhs3G_"
      },
      "execution_count": null,
      "outputs": []
    },
    {
      "cell_type": "code",
      "source": [],
      "metadata": {
        "id": "rH8HXYyNs3Q8"
      },
      "execution_count": null,
      "outputs": []
    },
    {
      "cell_type": "code",
      "source": [],
      "metadata": {
        "id": "DBZztbFOs30D"
      },
      "execution_count": null,
      "outputs": []
    },
    {
      "cell_type": "code",
      "source": [],
      "metadata": {
        "id": "xH4-LXNms3-Z"
      },
      "execution_count": null,
      "outputs": []
    },
    {
      "cell_type": "code",
      "source": [],
      "metadata": {
        "id": "1eKwAvPSs4Fa"
      },
      "execution_count": null,
      "outputs": []
    },
    {
      "cell_type": "code",
      "source": [],
      "metadata": {
        "id": "PB6cL09Ls4M5"
      },
      "execution_count": null,
      "outputs": []
    },
    {
      "cell_type": "markdown",
      "metadata": {
        "collapsed": true,
        "id": "2rzAj_xtlrtt"
      },
      "source": [
        "`[your report/log here or anywhere you please]`"
      ]
    }
  ],
  "metadata": {
    "accelerator": "GPU",
    "colab": {
      "collapsed_sections": [
        "edk_oVg0lrtW"
      ],
      "provenance": [],
      "gpuType": "T4"
    },
    "kernelspec": {
      "display_name": "Python 3",
      "name": "python3"
    },
    "language_info": {
      "codemirror_mode": {
        "name": "ipython",
        "version": 3
      },
      "file_extension": ".py",
      "mimetype": "text/x-python",
      "name": "python",
      "nbconvert_exporter": "python",
      "pygments_lexer": "ipython3",
      "version": "3.8.3"
    }
  },
  "nbformat": 4,
  "nbformat_minor": 0
}